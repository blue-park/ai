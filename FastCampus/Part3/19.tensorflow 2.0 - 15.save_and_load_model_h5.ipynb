{
 "cells": [
  {
   "cell_type": "markdown",
   "metadata": {},
   "source": [
    "# TensorFlow 2.0"
   ]
  },
  {
   "cell_type": "code",
   "execution_count": 1,
   "metadata": {},
   "outputs": [],
   "source": [
    "import os\n",
    "from glob import glob\n",
    "from datetime import datetime\n",
    "\n",
    "import numpy as np\n",
    "\n",
    "import tensorflow as tf\n",
    "from tensorflow.keras import layers\n",
    "\n",
    "from tensorflow.keras import datasets \n",
    "\n",
    "import matplotlib.pyplot as plt\n",
    "\n",
    "%load_ext tensorboard\n",
    "%matplotlib inline"
   ]
  },
  {
   "cell_type": "markdown",
   "metadata": {},
   "source": [
    "## Hyperparameter Tunning"
   ]
  },
  {
   "cell_type": "code",
   "execution_count": 2,
   "metadata": {},
   "outputs": [],
   "source": [
    "num_epochs = 5\n",
    "batch_size = 32\n",
    "\n",
    "learning_rate = 0.001\n",
    "\n",
    "dropout_rate = 0.5\n",
    "\n",
    "input_shape = (32, 32, 3)\n",
    "num_classes = 10"
   ]
  },
  {
   "cell_type": "markdown",
   "metadata": {},
   "source": [
    "## Build Model"
   ]
  },
  {
   "cell_type": "code",
   "execution_count": 3,
   "metadata": {},
   "outputs": [],
   "source": [
    "inputs = layers.Input(input_shape)\n",
    "\n",
    "net = layers.Conv2D(32, (3, 3), padding='SAME')(inputs)\n",
    "net = layers.Activation('relu')(net)\n",
    "net = layers.Conv2D(32, (3, 3), padding='SAME')(net)\n",
    "net = layers.Activation('relu')(net)\n",
    "net = layers.MaxPooling2D(pool_size=(2, 2))(net)\n",
    "net = layers.Dropout(dropout_rate)(net)\n",
    "\n",
    "net = layers.Conv2D(64, (3, 3), padding='SAME')(net)\n",
    "net = layers.Activation('relu')(net)\n",
    "net = layers.Conv2D(64, (3, 3), padding='SAME')(net)\n",
    "net = layers.Activation('relu')(net)\n",
    "net = layers.MaxPooling2D(pool_size=(2, 2))(net)\n",
    "net = layers.Dropout(dropout_rate)(net)\n",
    "\n",
    "net = layers.Flatten()(net)\n",
    "net = layers.Dense(512)(net)\n",
    "net = layers.Activation('relu')(net)\n",
    "net = layers.Dropout(dropout_rate)(net)\n",
    "net = layers.Dense(num_classes)(net)\n",
    "net = layers.Activation('softmax')(net)\n",
    "\n",
    "model = tf.keras.Model(inputs=inputs, outputs=net, name='Basic_CNN')"
   ]
  },
  {
   "cell_type": "code",
   "execution_count": 4,
   "metadata": {},
   "outputs": [],
   "source": [
    "# Model is the full model w/o custom layers\n",
    "model.compile(optimizer=tf.keras.optimizers.Adam(learning_rate),  # Optimization\n",
    "              loss='sparse_categorical_crossentropy',  # Loss Function \n",
    "              metrics=['accuracy'])  # Metrics / Accuracy"
   ]
  },
  {
   "cell_type": "markdown",
   "metadata": {},
   "source": [
    "# Data Preprocess"
   ]
  },
  {
   "cell_type": "code",
   "execution_count": 5,
   "metadata": {},
   "outputs": [],
   "source": [
    "train_paths = glob('dataset/cifar/train/*.png')[:100]\n",
    "test_paths = glob('dataset/cifar/test/*.png')[:100]"
   ]
  },
  {
   "cell_type": "code",
   "execution_count": 6,
   "metadata": {},
   "outputs": [],
   "source": [
    "def get_class_name(path):\n",
    "    return path.split('_')[-1].replace('.png', '')"
   ]
  },
  {
   "cell_type": "code",
   "execution_count": 7,
   "metadata": {},
   "outputs": [],
   "source": [
    "train_labels = [get_class_name(path) for path in train_paths]\n",
    "class_names = np.unique(train_labels)"
   ]
  },
  {
   "cell_type": "code",
   "execution_count": 8,
   "metadata": {},
   "outputs": [],
   "source": [
    "def get_label(path):\n",
    "    fname = tf.strings.split(path, '_')[-1]\n",
    "    lbl_name = tf.strings.regex_replace(fname, '.png', '')\n",
    "    onehot = tf.cast(lbl_name == class_names, tf.uint8)\n",
    "    return tf.argmax(onehot)  # 이번에는 onehot이 아닌 label 번호로"
   ]
  },
  {
   "cell_type": "code",
   "execution_count": 9,
   "metadata": {},
   "outputs": [],
   "source": [
    "def load_image_label(path):\n",
    "    gfile = tf.io.read_file(path)\n",
    "    image = tf.io.decode_image(gfile)\n",
    "    image = tf.cast(image, tf.float32) / 255.  # rescale\n",
    "    \n",
    "    label = get_label(path)\n",
    "    return image, label"
   ]
  },
  {
   "cell_type": "code",
   "execution_count": 10,
   "metadata": {},
   "outputs": [],
   "source": [
    "def image_preprocess(image, label):\n",
    "    image = tf.image.random_flip_up_down(image)\n",
    "    image = tf.image.random_flip_left_right(image)\n",
    "    return image, label"
   ]
  },
  {
   "cell_type": "code",
   "execution_count": 11,
   "metadata": {},
   "outputs": [],
   "source": [
    "AUTOTUNE = tf.data.experimental.AUTOTUNE"
   ]
  },
  {
   "cell_type": "code",
   "execution_count": 12,
   "metadata": {
    "scrolled": false
   },
   "outputs": [],
   "source": [
    "train_dataset = tf.data.Dataset.from_tensor_slices(train_paths)\n",
    "train_dataset = train_dataset.map(load_image_label, num_parallel_calls=AUTOTUNE)\n",
    "train_dataset = train_dataset.map(image_preprocess, num_parallel_calls=AUTOTUNE)\n",
    "train_dataset = train_dataset.batch(batch_size)\n",
    "train_dataset = train_dataset.shuffle(buffer_size=len(train_paths))\n",
    "train_dataset = train_dataset.repeat()"
   ]
  },
  {
   "cell_type": "code",
   "execution_count": 13,
   "metadata": {},
   "outputs": [],
   "source": [
    "test_dataset = tf.data.Dataset.from_tensor_slices(test_paths)\n",
    "test_dataset = test_dataset.map(load_image_label, num_parallel_calls=AUTOTUNE)\n",
    "test_dataset = test_dataset.batch(batch_size)\n",
    "test_dataset = test_dataset.repeat()"
   ]
  },
  {
   "cell_type": "markdown",
   "metadata": {},
   "source": [
    "## Training"
   ]
  },
  {
   "cell_type": "markdown",
   "metadata": {},
   "source": [
    "http://localhost:6006"
   ]
  },
  {
   "cell_type": "code",
   "execution_count": 14,
   "metadata": {},
   "outputs": [
    {
     "name": "stderr",
     "output_type": "stream",
     "text": [
      "C:\\Users\\LGCNS\\Anaconda3\\lib\\site-packages\\tensorflow\\python\\keras\\engine\\training.py:1844: UserWarning: `Model.fit_generator` is deprecated and will be removed in a future version. Please use `Model.fit`, which supports generators.\n",
      "  warnings.warn('`Model.fit_generator` is deprecated and '\n"
     ]
    },
    {
     "name": "stdout",
     "output_type": "stream",
     "text": [
      "Epoch 1/5\n",
      "3/3 [==============================] - 6s 1s/step - loss: 2.4160 - accuracy: 0.0303 - val_loss: 2.2846 - val_accuracy: 0.1771\n",
      "Epoch 2/5\n",
      "3/3 [==============================] - 0s 170ms/step - loss: 2.3732 - accuracy: 0.0534 - val_loss: 2.3036 - val_accuracy: 0.0833\n",
      "Epoch 3/5\n",
      "3/3 [==============================] - 0s 210ms/step - loss: 2.2162 - accuracy: 0.2475 - val_loss: 2.3168 - val_accuracy: 0.0729\n",
      "Epoch 4/5\n",
      "3/3 [==============================] - 0s 155ms/step - loss: 2.2689 - accuracy: 0.1132 - val_loss: 2.3400 - val_accuracy: 0.0729\n",
      "Epoch 5/5\n",
      "3/3 [==============================] - 0s 184ms/step - loss: 2.1174 - accuracy: 0.3795 - val_loss: 2.3797 - val_accuracy: 0.0729\n"
     ]
    }
   ],
   "source": [
    "steps_per_epoch = len(train_paths) // batch_size\n",
    "validation_steps = len(test_paths) // batch_size\n",
    "\n",
    "history = model.fit_generator(\n",
    "    train_dataset,\n",
    "    steps_per_epoch=steps_per_epoch,\n",
    "    validation_data=test_dataset,\n",
    "    validation_steps=validation_steps,\n",
    "    epochs=num_epochs\n",
    ")"
   ]
  },
  {
   "cell_type": "markdown",
   "metadata": {},
   "source": [
    "# Load Checkpoint"
   ]
  },
  {
   "cell_type": "code",
   "execution_count": 17,
   "metadata": {},
   "outputs": [
    {
     "ename": "OpError",
     "evalue": "",
     "output_type": "error",
     "traceback": [
      "\u001b[1;31m---------------------------------------------------------------------------\u001b[0m",
      "\u001b[1;31mRuntimeError\u001b[0m                              Traceback (most recent call last)",
      "\u001b[1;32m~\\Anaconda3\\lib\\site-packages\\tensorflow\\python\\training\\py_checkpoint_reader.py\u001b[0m in \u001b[0;36mNewCheckpointReader\u001b[1;34m(filepattern)\u001b[0m\n\u001b[0;32m     94\u001b[0m   \u001b[1;32mtry\u001b[0m\u001b[1;33m:\u001b[0m\u001b[1;33m\u001b[0m\u001b[1;33m\u001b[0m\u001b[0m\n\u001b[1;32m---> 95\u001b[1;33m     \u001b[1;32mreturn\u001b[0m \u001b[0mCheckpointReader\u001b[0m\u001b[1;33m(\u001b[0m\u001b[0mcompat\u001b[0m\u001b[1;33m.\u001b[0m\u001b[0mas_bytes\u001b[0m\u001b[1;33m(\u001b[0m\u001b[0mfilepattern\u001b[0m\u001b[1;33m)\u001b[0m\u001b[1;33m)\u001b[0m\u001b[1;33m\u001b[0m\u001b[1;33m\u001b[0m\u001b[0m\n\u001b[0m\u001b[0;32m     96\u001b[0m   \u001b[1;31m# TODO(b/143319754): Remove the RuntimeError casting logic once we resolve the\u001b[0m\u001b[1;33m\u001b[0m\u001b[1;33m\u001b[0m\u001b[1;33m\u001b[0m\u001b[0m\n",
      "\u001b[1;31mRuntimeError\u001b[0m: ",
      "\nDuring handling of the above exception, another exception occurred:\n",
      "\u001b[1;31mOpError\u001b[0m                                   Traceback (most recent call last)",
      "\u001b[1;32m<ipython-input-17-ca0f6a58f16b>\u001b[0m in \u001b[0;36m<module>\u001b[1;34m\u001b[0m\n\u001b[1;32m----> 1\u001b[1;33m \u001b[0mmodel\u001b[0m\u001b[1;33m.\u001b[0m\u001b[0mload_weights\u001b[0m\u001b[1;33m(\u001b[0m\u001b[1;34m'checkpoints'\u001b[0m\u001b[1;33m)\u001b[0m\u001b[1;33m\u001b[0m\u001b[1;33m\u001b[0m\u001b[0m\n\u001b[0m",
      "\u001b[1;32m~\\Anaconda3\\lib\\site-packages\\tensorflow\\python\\keras\\engine\\training.py\u001b[0m in \u001b[0;36mload_weights\u001b[1;34m(self, filepath, by_name, skip_mismatch, options)\u001b[0m\n\u001b[0;32m   2197\u001b[0m     \u001b[1;32melse\u001b[0m\u001b[1;33m:\u001b[0m\u001b[1;33m\u001b[0m\u001b[1;33m\u001b[0m\u001b[0m\n\u001b[0;32m   2198\u001b[0m       \u001b[1;32mtry\u001b[0m\u001b[1;33m:\u001b[0m\u001b[1;33m\u001b[0m\u001b[1;33m\u001b[0m\u001b[0m\n\u001b[1;32m-> 2199\u001b[1;33m         \u001b[0mpy_checkpoint_reader\u001b[0m\u001b[1;33m.\u001b[0m\u001b[0mNewCheckpointReader\u001b[0m\u001b[1;33m(\u001b[0m\u001b[0mfilepath\u001b[0m\u001b[1;33m)\u001b[0m\u001b[1;33m\u001b[0m\u001b[1;33m\u001b[0m\u001b[0m\n\u001b[0m\u001b[0;32m   2200\u001b[0m         \u001b[0msave_format\u001b[0m \u001b[1;33m=\u001b[0m \u001b[1;34m'tf'\u001b[0m\u001b[1;33m\u001b[0m\u001b[1;33m\u001b[0m\u001b[0m\n\u001b[0;32m   2201\u001b[0m       \u001b[1;32mexcept\u001b[0m \u001b[0merrors_impl\u001b[0m\u001b[1;33m.\u001b[0m\u001b[0mDataLossError\u001b[0m\u001b[1;33m:\u001b[0m\u001b[1;33m\u001b[0m\u001b[1;33m\u001b[0m\u001b[0m\n",
      "\u001b[1;32m~\\Anaconda3\\lib\\site-packages\\tensorflow\\python\\training\\py_checkpoint_reader.py\u001b[0m in \u001b[0;36mNewCheckpointReader\u001b[1;34m(filepattern)\u001b[0m\n\u001b[0;32m     97\u001b[0m   \u001b[1;31m# issue with throwing python exceptions from C++.\u001b[0m\u001b[1;33m\u001b[0m\u001b[1;33m\u001b[0m\u001b[1;33m\u001b[0m\u001b[0m\n\u001b[0;32m     98\u001b[0m   \u001b[1;32mexcept\u001b[0m \u001b[0mRuntimeError\u001b[0m \u001b[1;32mas\u001b[0m \u001b[0me\u001b[0m\u001b[1;33m:\u001b[0m\u001b[1;33m\u001b[0m\u001b[1;33m\u001b[0m\u001b[0m\n\u001b[1;32m---> 99\u001b[1;33m     \u001b[0merror_translator\u001b[0m\u001b[1;33m(\u001b[0m\u001b[0me\u001b[0m\u001b[1;33m)\u001b[0m\u001b[1;33m\u001b[0m\u001b[1;33m\u001b[0m\u001b[0m\n\u001b[0m",
      "\u001b[1;32m~\\Anaconda3\\lib\\site-packages\\tensorflow\\python\\training\\py_checkpoint_reader.py\u001b[0m in \u001b[0;36merror_translator\u001b[1;34m(e)\u001b[0m\n\u001b[0;32m     46\u001b[0m     \u001b[1;32mraise\u001b[0m \u001b[0merrors_impl\u001b[0m\u001b[1;33m.\u001b[0m\u001b[0mInternalError\u001b[0m\u001b[1;33m(\u001b[0m\u001b[1;32mNone\u001b[0m\u001b[1;33m,\u001b[0m \u001b[1;32mNone\u001b[0m\u001b[1;33m,\u001b[0m \u001b[0merror_message\u001b[0m\u001b[1;33m)\u001b[0m\u001b[1;33m\u001b[0m\u001b[1;33m\u001b[0m\u001b[0m\n\u001b[0;32m     47\u001b[0m   \u001b[1;32melse\u001b[0m\u001b[1;33m:\u001b[0m\u001b[1;33m\u001b[0m\u001b[1;33m\u001b[0m\u001b[0m\n\u001b[1;32m---> 48\u001b[1;33m     \u001b[1;32mraise\u001b[0m \u001b[0merrors_impl\u001b[0m\u001b[1;33m.\u001b[0m\u001b[0mOpError\u001b[0m\u001b[1;33m(\u001b[0m\u001b[1;32mNone\u001b[0m\u001b[1;33m,\u001b[0m \u001b[1;32mNone\u001b[0m\u001b[1;33m,\u001b[0m \u001b[0merror_message\u001b[0m\u001b[1;33m,\u001b[0m \u001b[0merrors_impl\u001b[0m\u001b[1;33m.\u001b[0m\u001b[0mUNKNOWN\u001b[0m\u001b[1;33m)\u001b[0m\u001b[1;33m\u001b[0m\u001b[1;33m\u001b[0m\u001b[0m\n\u001b[0m\u001b[0;32m     49\u001b[0m \u001b[1;33m\u001b[0m\u001b[0m\n\u001b[0;32m     50\u001b[0m \u001b[1;33m\u001b[0m\u001b[0m\n",
      "\u001b[1;31mOpError\u001b[0m: "
     ]
    }
   ],
   "source": [
    "checkpoint = model.load_weights('checkpoints')"
   ]
  },
  {
   "cell_type": "markdown",
   "metadata": {},
   "source": [
    "# Saving Model"
   ]
  },
  {
   "cell_type": "code",
   "execution_count": 18,
   "metadata": {},
   "outputs": [],
   "source": [
    "save_path = 'my_model.h5'"
   ]
  },
  {
   "cell_type": "code",
   "execution_count": 20,
   "metadata": {},
   "outputs": [],
   "source": [
    "model.save(save_path, include_optimizer=True)"
   ]
  },
  {
   "cell_type": "code",
   "execution_count": 22,
   "metadata": {},
   "outputs": [],
   "source": [
    "model = tf.keras.models.load_model('my_model.h5')"
   ]
  },
  {
   "cell_type": "code",
   "execution_count": null,
   "metadata": {},
   "outputs": [],
   "source": []
  },
  {
   "cell_type": "markdown",
   "metadata": {},
   "source": [
    "# Saving Model - 2"
   ]
  },
  {
   "cell_type": "code",
   "execution_count": 23,
   "metadata": {},
   "outputs": [],
   "source": [
    "model.save_weights('model_weights.h5')"
   ]
  },
  {
   "cell_type": "code",
   "execution_count": 25,
   "metadata": {},
   "outputs": [],
   "source": [
    "with open('model_architecture.json', 'w') as f:\n",
    "    f.write(model.to_json())"
   ]
  },
  {
   "cell_type": "code",
   "execution_count": 26,
   "metadata": {},
   "outputs": [],
   "source": [
    "from tensorflow.keras.models import model_from_json"
   ]
  },
  {
   "cell_type": "code",
   "execution_count": 27,
   "metadata": {},
   "outputs": [],
   "source": [
    "with open('model_architecture.json', 'r') as f:\n",
    "    model = model_from_json(f.read())"
   ]
  },
  {
   "cell_type": "code",
   "execution_count": 28,
   "metadata": {},
   "outputs": [],
   "source": [
    "model.load_weights('model_weights.h5')"
   ]
  },
  {
   "cell_type": "code",
   "execution_count": null,
   "metadata": {},
   "outputs": [],
   "source": []
  },
  {
   "cell_type": "code",
   "execution_count": null,
   "metadata": {},
   "outputs": [],
   "source": []
  },
  {
   "cell_type": "markdown",
   "metadata": {},
   "source": [
    "# model.h5 들여다보기"
   ]
  },
  {
   "cell_type": "code",
   "execution_count": 29,
   "metadata": {},
   "outputs": [],
   "source": [
    "import h5py"
   ]
  },
  {
   "cell_type": "code",
   "execution_count": 30,
   "metadata": {},
   "outputs": [],
   "source": [
    "model_file = h5py.File('my_model.h5', 'r+')"
   ]
  },
  {
   "cell_type": "code",
   "execution_count": 35,
   "metadata": {},
   "outputs": [
    {
     "data": {
      "text/plain": [
       "<KeysViewHDF5 ['activation', 'activation_1', 'activation_2', 'activation_3', 'activation_4', 'activation_5', 'conv2d', 'conv2d_1', 'conv2d_2', 'conv2d_3', 'dense', 'dense_1', 'dropout', 'dropout_1', 'dropout_2', 'flatten', 'input_1', 'max_pooling2d', 'max_pooling2d_1']>"
      ]
     },
     "execution_count": 35,
     "metadata": {},
     "output_type": "execute_result"
    }
   ],
   "source": [
    "model_file['model_weights'].keys()"
   ]
  },
  {
   "cell_type": "code",
   "execution_count": 38,
   "metadata": {},
   "outputs": [
    {
     "data": {
      "text/plain": [
       "<KeysViewHDF5 ['bias:0', 'kernel:0']>"
      ]
     },
     "execution_count": 38,
     "metadata": {},
     "output_type": "execute_result"
    }
   ],
   "source": [
    "model_file['model_weights']['conv2d']['conv2d'].keys()"
   ]
  },
  {
   "cell_type": "code",
   "execution_count": 41,
   "metadata": {},
   "outputs": [
    {
     "data": {
      "text/plain": [
       "<HDF5 dataset \"kernel:0\": shape (3, 3, 3, 32), type \"<f4\">"
      ]
     },
     "execution_count": 41,
     "metadata": {},
     "output_type": "execute_result"
    }
   ],
   "source": [
    "model_file['model_weights']['conv2d']['conv2d']['kernel:0']"
   ]
  },
  {
   "cell_type": "code",
   "execution_count": 43,
   "metadata": {},
   "outputs": [],
   "source": [
    "weight = np.array(model_file['model_weights']['conv2d']['conv2d']['kernel:0'])"
   ]
  },
  {
   "cell_type": "code",
   "execution_count": 45,
   "metadata": {},
   "outputs": [
    {
     "data": {
      "text/plain": [
       "(3, 3, 3, 32)"
      ]
     },
     "execution_count": 45,
     "metadata": {},
     "output_type": "execute_result"
    }
   ],
   "source": [
    "weight.shape"
   ]
  },
  {
   "cell_type": "code",
   "execution_count": 46,
   "metadata": {},
   "outputs": [
    {
     "data": {
      "text/plain": [
       "array([[[[ 0.09226803,  0.02035537, -0.07589207,  0.10343052,\n",
       "          -0.00207525,  0.11616346,  0.04971687, -0.03137767,\n",
       "          -0.08988912,  0.02444686,  0.09575669, -0.10430526,\n",
       "           0.12197807,  0.10940919, -0.0496272 ,  0.12526023,\n",
       "           0.06602866,  0.04394877, -0.09091225,  0.09216809,\n",
       "           0.04588674, -0.00177437,  0.05969669,  0.11008204,\n",
       "           0.03956138,  0.10451498, -0.0851523 ,  0.0064488 ,\n",
       "           0.10007961,  0.13659248, -0.03083892,  0.11937226],\n",
       "         [-0.14323723,  0.04894153, -0.08499064, -0.12710951,\n",
       "          -0.00835904,  0.0776788 , -0.08659326, -0.11486722,\n",
       "           0.07947304, -0.01082734, -0.04861812, -0.08083069,\n",
       "          -0.08567894,  0.03411101, -0.05327542, -0.00682582,\n",
       "           0.03834675,  0.0162728 ,  0.0367973 , -0.09071002,\n",
       "          -0.13866745, -0.08413019, -0.08592813,  0.06848822,\n",
       "           0.07805333,  0.05277401, -0.02209231, -0.13872363,\n",
       "           0.05234234,  0.04949731, -0.11033131,  0.11107911],\n",
       "         [ 0.00197335, -0.14345646, -0.00519876,  0.00868428,\n",
       "           0.0388073 , -0.12900066, -0.02957962, -0.13182233,\n",
       "          -0.10915868, -0.02702484,  0.02148024,  0.04233399,\n",
       "           0.09208478,  0.05561702, -0.11996959, -0.00648552,\n",
       "          -0.1153716 ,  0.02663474,  0.08532102,  0.1255966 ,\n",
       "           0.12902564, -0.0668817 ,  0.11740116,  0.11620058,\n",
       "          -0.01216918,  0.01960823, -0.09325173, -0.12806788,\n",
       "          -0.10367728, -0.12376699, -0.05983981, -0.10850483]],\n",
       "\n",
       "        [[ 0.05011386,  0.08989264, -0.05434152,  0.02878102,\n",
       "           0.08991744, -0.03507942, -0.04125184,  0.03903083,\n",
       "           0.10879905,  0.05733495, -0.11786691,  0.09997661,\n",
       "          -0.02755744,  0.1272818 ,  0.06169421, -0.10007939,\n",
       "          -0.03522786,  0.06624847, -0.08002637, -0.10525055,\n",
       "          -0.1252894 ,  0.09148318,  0.05438835, -0.0518951 ,\n",
       "          -0.13064538,  0.06643473,  0.08964621, -0.14479016,\n",
       "          -0.08700699,  0.11239415, -0.13213496, -0.03226992],\n",
       "         [ 0.12806395, -0.08218367, -0.00760864, -0.06429584,\n",
       "           0.04577575,  0.10692479,  0.11530547, -0.12525143,\n",
       "           0.00903648, -0.07084209,  0.02789387, -0.10670364,\n",
       "           0.03168302, -0.04496183, -0.00120575, -0.11205941,\n",
       "          -0.07783159, -0.06519335,  0.06081325, -0.07496618,\n",
       "          -0.07958478, -0.11269629, -0.05961237, -0.00749046,\n",
       "          -0.12465075, -0.03221568,  0.09509502, -0.09537329,\n",
       "          -0.11148483, -0.12287478, -0.04198808,  0.05451214],\n",
       "         [-0.10836918,  0.07652622,  0.07124905,  0.10103011,\n",
       "           0.01522869, -0.13791418,  0.00743226,  0.13157205,\n",
       "          -0.03361556, -0.09389729,  0.09733687, -0.03872324,\n",
       "          -0.03601295,  0.01298045, -0.00072351, -0.03531231,\n",
       "          -0.06771252, -0.12529384, -0.08527111,  0.09305286,\n",
       "           0.05298166,  0.05931294, -0.0507371 ,  0.06741387,\n",
       "          -0.12034272,  0.03308082, -0.06251842,  0.04241959,\n",
       "          -0.11188135,  0.09143361,  0.03722062, -0.07287568]],\n",
       "\n",
       "        [[ 0.02677797,  0.01515328,  0.04301363, -0.03962529,\n",
       "          -0.0796912 , -0.12741396,  0.02481071,  0.13548027,\n",
       "           0.03471314, -0.02240558, -0.03976187,  0.0754308 ,\n",
       "          -0.10414629, -0.11681911, -0.12583715,  0.04643318,\n",
       "          -0.11653427, -0.05189958,  0.00603374,  0.09866748,\n",
       "          -0.10513546, -0.1274425 ,  0.02476771,  0.02896913,\n",
       "           0.02505118,  0.12926155, -0.02779331, -0.11164914,\n",
       "           0.12605241,  0.06013073,  0.05531333, -0.1229689 ],\n",
       "         [ 0.11132384,  0.0879611 ,  0.07358391, -0.00324853,\n",
       "           0.06749303,  0.00815892, -0.09560067,  0.09635814,\n",
       "           0.01237804,  0.03371718, -0.11520603,  0.11978205,\n",
       "           0.04872046, -0.01036738, -0.02806618,  0.02367064,\n",
       "           0.06134651, -0.07997242,  0.13241757,  0.02326845,\n",
       "          -0.03477503,  0.02609123,  0.13860697,  0.08825665,\n",
       "           0.08659714,  0.06379988, -0.10010443, -0.03187938,\n",
       "           0.02573926, -0.04984885, -0.120342  ,  0.04841804],\n",
       "         [ 0.0666208 , -0.10093956, -0.1331225 , -0.06532436,\n",
       "           0.01870739,  0.02396413,  0.0458454 ,  0.01016327,\n",
       "           0.05210675,  0.06624041, -0.06036332,  0.05120911,\n",
       "           0.08127923,  0.11037284, -0.13188827,  0.03342288,\n",
       "          -0.10385042, -0.05610506, -0.04607167, -0.01987959,\n",
       "          -0.05028469,  0.10221607, -0.08893847, -0.10242578,\n",
       "          -0.03038012,  0.11268238,  0.08748696,  0.13082306,\n",
       "          -0.13349536,  0.01386431, -0.08617848,  0.04120938]]],\n",
       "\n",
       "\n",
       "       [[[ 0.07393272, -0.10372954,  0.13422889,  0.00279668,\n",
       "          -0.12595329,  0.09983675,  0.01161019,  0.10697459,\n",
       "          -0.11524279, -0.03172655, -0.05605602,  0.04506172,\n",
       "           0.10232848, -0.04610943,  0.11225852, -0.04293232,\n",
       "          -0.13473165, -0.11410292, -0.01092243, -0.00474232,\n",
       "           0.12678061,  0.04580113, -0.07897351, -0.01878779,\n",
       "          -0.07772601, -0.10100543, -0.0622269 ,  0.04962977,\n",
       "          -0.0615438 , -0.08003979,  0.12933207, -0.1286664 ],\n",
       "         [-0.10859995,  0.06614428, -0.10789785, -0.04335517,\n",
       "          -0.12208544, -0.09037127, -0.04850013,  0.08651713,\n",
       "           0.05508867, -0.11741117, -0.09590875,  0.00216369,\n",
       "          -0.11138202,  0.02419076, -0.10059461, -0.01828598,\n",
       "          -0.02315911, -0.1049329 , -0.04249657, -0.0817092 ,\n",
       "          -0.0279811 ,  0.01771559,  0.0608134 ,  0.00685142,\n",
       "           0.00576241,  0.12855445, -0.07986163,  0.00994364,\n",
       "           0.07211226,  0.12981637, -0.03273655, -0.09217822],\n",
       "         [ 0.05414234, -0.01634298,  0.04014625,  0.01229999,\n",
       "          -0.02483556,  0.03937059, -0.04087311, -0.02890016,\n",
       "           0.06450342, -0.12846367,  0.04130335, -0.05089269,\n",
       "          -0.01287339,  0.07163692,  0.12149181,  0.02978526,\n",
       "           0.08645056, -0.03367508, -0.0107326 , -0.12698393,\n",
       "           0.05243123,  0.06737871, -0.02589926, -0.00224   ,\n",
       "           0.0714971 ,  0.04834906,  0.09064662, -0.14379106,\n",
       "           0.00975168,  0.08127613,  0.06884298, -0.0213206 ]],\n",
       "\n",
       "        [[ 0.11946404, -0.01821611,  0.03395229, -0.0194098 ,\n",
       "          -0.13597056, -0.10808094,  0.07721691,  0.02710427,\n",
       "           0.01170701,  0.06769448,  0.05488953, -0.06962793,\n",
       "           0.02364113, -0.01292068, -0.13524926,  0.06811827,\n",
       "          -0.01695919,  0.01717917, -0.09719143, -0.05284663,\n",
       "          -0.11760688, -0.01172995,  0.10111397, -0.11817472,\n",
       "          -0.13986659,  0.11016501,  0.05118542,  0.1296715 ,\n",
       "           0.10685192,  0.11397954,  0.11767586,  0.01510974],\n",
       "         [ 0.02236893, -0.01367888,  0.12174594, -0.12569797,\n",
       "          -0.04219783, -0.08907062, -0.13057375, -0.00763638,\n",
       "          -0.00189569, -0.0884091 , -0.00987874,  0.1263707 ,\n",
       "          -0.01469537, -0.08916106,  0.0138394 , -0.07856738,\n",
       "          -0.11796856,  0.03713829, -0.002193  ,  0.0559627 ,\n",
       "          -0.11518435,  0.09815177, -0.0665768 , -0.09000788,\n",
       "           0.05072757, -0.13379864,  0.0993262 ,  0.09761745,\n",
       "          -0.12382148, -0.10497281,  0.0177714 ,  0.10858192],\n",
       "         [-0.04493894, -0.13730294,  0.08438569,  0.0518757 ,\n",
       "           0.03526313,  0.05477728,  0.12630332, -0.10294051,\n",
       "           0.09035467,  0.13247772, -0.05391452,  0.01098947,\n",
       "          -0.14313878,  0.01467693, -0.0826367 ,  0.12009934,\n",
       "          -0.06208692,  0.10647673, -0.12159576, -0.05437547,\n",
       "          -0.06555013,  0.05352468, -0.00287719, -0.07983637,\n",
       "          -0.04954923, -0.01548041, -0.02532549, -0.10557283,\n",
       "           0.09324616, -0.02458972, -0.02264979,  0.02072068]],\n",
       "\n",
       "        [[-0.05160134, -0.03762269,  0.07468191,  0.1121219 ,\n",
       "           0.02156943, -0.06622903, -0.04058406, -0.02065172,\n",
       "          -0.09996556,  0.10544313, -0.03597411,  0.11289033,\n",
       "           0.08926874,  0.04770162,  0.03537653,  0.07735989,\n",
       "          -0.07546672,  0.04463679, -0.04153531,  0.00937042,\n",
       "          -0.1025231 , -0.13514204, -0.03459957,  0.09568218,\n",
       "          -0.10235096,  0.10824356,  0.05007475, -0.07260863,\n",
       "          -0.07158329,  0.02859231,  0.13143434,  0.11673795],\n",
       "         [-0.03434382, -0.03290585,  0.03581164,  0.04025623,\n",
       "          -0.02396524, -0.02645342,  0.10032623,  0.03476012,\n",
       "           0.06812721,  0.11058896,  0.11004797, -0.03902487,\n",
       "           0.09633128,  0.1000109 ,  0.00270459, -0.05263993,\n",
       "           0.02676033,  0.04340615,  0.04655952,  0.10615239,\n",
       "           0.12378745, -0.14219728,  0.01076676, -0.08085614,\n",
       "           0.11567393, -0.09423281, -0.06190972, -0.11252636,\n",
       "          -0.02164138, -0.00867641, -0.06210503, -0.03169771],\n",
       "         [-0.11384387,  0.02449481, -0.10813484, -0.011702  ,\n",
       "           0.07319567,  0.1106436 ,  0.04108775,  0.05709127,\n",
       "           0.05182704,  0.11669161,  0.01908404,  0.06237094,\n",
       "           0.07850442,  0.06690857,  0.01053184,  0.07594747,\n",
       "           0.03662198,  0.11933687, -0.03160852,  0.11850944,\n",
       "           0.04781921, -0.0772774 ,  0.06551535,  0.10956648,\n",
       "          -0.01029768, -0.02757354,  0.05532381,  0.08589005,\n",
       "          -0.0519938 ,  0.02134498,  0.09855814, -0.03587318]]],\n",
       "\n",
       "\n",
       "       [[[ 0.08967934,  0.05097509, -0.0887455 , -0.13591579,\n",
       "          -0.02905444,  0.03831343,  0.12438495,  0.13414901,\n",
       "          -0.0581801 ,  0.00895573, -0.01687503,  0.09600624,\n",
       "           0.05143499,  0.08017272, -0.12516245, -0.1023053 ,\n",
       "          -0.08269885,  0.01962705, -0.09565055, -0.07575428,\n",
       "           0.0569693 , -0.04126684,  0.06835493,  0.00076851,\n",
       "           0.0888435 , -0.03955753,  0.09058648, -0.02992939,\n",
       "          -0.03303384, -0.08070806,  0.0783952 ,  0.11879715],\n",
       "         [-0.10053086,  0.0619219 ,  0.07645564, -0.08062661,\n",
       "           0.08026475,  0.04928304, -0.05623232, -0.01160709,\n",
       "          -0.09971228, -0.018154  , -0.04899877, -0.14488049,\n",
       "           0.11150675,  0.12763119, -0.02766958, -0.09690171,\n",
       "          -0.02726183,  0.00853885,  0.0388372 ,  0.10725192,\n",
       "           0.08864151, -0.06885993, -0.12851371,  0.1322629 ,\n",
       "           0.11147873, -0.04833317,  0.08708241,  0.08958066,\n",
       "           0.06903803,  0.07170922,  0.0732429 , -0.11718702],\n",
       "         [ 0.09695687,  0.07058157, -0.055033  ,  0.08310419,\n",
       "          -0.00299437, -0.0936707 , -0.06856208,  0.08877981,\n",
       "          -0.10341693,  0.04483872,  0.05073543, -0.03872785,\n",
       "           0.03440747, -0.07843301, -0.08296341,  0.05557928,\n",
       "          -0.1266414 , -0.02228448, -0.01544957,  0.0937144 ,\n",
       "          -0.12350534, -0.10909513,  0.07362121, -0.04291878,\n",
       "           0.03664214, -0.01420537, -0.0809273 ,  0.04986314,\n",
       "           0.02562567, -0.11868745,  0.0313208 , -0.10809603]],\n",
       "\n",
       "        [[-0.00957095, -0.01703699, -0.11218062, -0.05200081,\n",
       "           0.0583738 , -0.09041452,  0.02544817, -0.11513102,\n",
       "          -0.11991425,  0.04672869, -0.04863031,  0.06589772,\n",
       "          -0.06510635, -0.02015812, -0.06329377,  0.07166085,\n",
       "          -0.00822748, -0.1174774 ,  0.03810799,  0.0648774 ,\n",
       "          -0.0238689 ,  0.02324867,  0.08055388, -0.11517151,\n",
       "          -0.13493547, -0.01542542,  0.08706326,  0.01302174,\n",
       "          -0.11467472, -0.03206668,  0.00770951, -0.07265356],\n",
       "         [ 0.12419373, -0.12503913, -0.10057612, -0.1138078 ,\n",
       "           0.04843364,  0.06658482,  0.07605847,  0.08586659,\n",
       "          -0.04347819, -0.06931317,  0.04686696, -0.14203034,\n",
       "          -0.07403014,  0.09951676, -0.06573502,  0.02458182,\n",
       "          -0.05535566, -0.11621083, -0.03141437,  0.09932234,\n",
       "          -0.05538215,  0.09621318,  0.00253087, -0.07651726,\n",
       "           0.00767487, -0.06961562, -0.10043119,  0.04152305,\n",
       "          -0.00725973, -0.09228155, -0.09621141,  0.11448069],\n",
       "         [ 0.0167473 , -0.05780924, -0.04981476,  0.1120011 ,\n",
       "           0.02544002, -0.0793901 ,  0.03158202, -0.01242079,\n",
       "          -0.0066151 , -0.02308006,  0.03784545,  0.02561751,\n",
       "           0.00656842, -0.09493709,  0.00421328, -0.1361216 ,\n",
       "           0.12646496, -0.00035882,  0.03366242,  0.11771531,\n",
       "          -0.01094714, -0.03613968, -0.1270934 ,  0.10452741,\n",
       "           0.05951356, -0.02990291,  0.04694952, -0.01945934,\n",
       "          -0.01242481,  0.07771571, -0.14295761, -0.03853739]],\n",
       "\n",
       "        [[ 0.01737373, -0.085226  , -0.13887568,  0.08660278,\n",
       "           0.00443882,  0.11019169,  0.12068397,  0.06553159,\n",
       "           0.1021779 ,  0.09844263,  0.12545905,  0.04659408,\n",
       "           0.09783412, -0.110383  ,  0.00388092,  0.1314931 ,\n",
       "           0.01604736,  0.08222498,  0.01712771,  0.07603528,\n",
       "           0.06234201,  0.11686918, -0.09923065, -0.0608682 ,\n",
       "           0.01465606,  0.08805326, -0.07852576,  0.08849414,\n",
       "          -0.10404656, -0.08418284, -0.12695226, -0.0621692 ],\n",
       "         [ 0.09414966, -0.07802934, -0.06539251, -0.14197686,\n",
       "          -0.01787359, -0.07274134,  0.04712293,  0.08624128,\n",
       "          -0.03570925,  0.07527335,  0.10646041,  0.11038773,\n",
       "           0.00263653,  0.12371872, -0.08995436, -0.02212327,\n",
       "           0.07288645, -0.07997799,  0.11210078,  0.03125937,\n",
       "          -0.11737777,  0.07463945,  0.05527839,  0.09841812,\n",
       "           0.10738889,  0.02580964,  0.0108526 , -0.10185806,\n",
       "           0.11041674,  0.07663519, -0.03644951, -0.00681602],\n",
       "         [ 0.00046721, -0.06611395,  0.12212527, -0.10954586,\n",
       "           0.06336968,  0.1067377 ,  0.12684643,  0.00548439,\n",
       "           0.04369108,  0.07530782,  0.10571221, -0.05226614,\n",
       "          -0.10173267,  0.05230491, -0.06974255,  0.07659799,\n",
       "           0.03020581,  0.05111969, -0.07953335, -0.08310571,\n",
       "          -0.0345058 ,  0.08743811,  0.12231711,  0.03764684,\n",
       "           0.13067725,  0.06490774,  0.01641541, -0.05327953,\n",
       "           0.01457629, -0.08748446, -0.06677686,  0.060438  ]]]],\n",
       "      dtype=float32)"
      ]
     },
     "execution_count": 46,
     "metadata": {},
     "output_type": "execute_result"
    }
   ],
   "source": [
    "weight"
   ]
  },
  {
   "cell_type": "code",
   "execution_count": null,
   "metadata": {},
   "outputs": [],
   "source": []
  }
 ],
 "metadata": {
  "kernelspec": {
   "display_name": "Python 3",
   "language": "python",
   "name": "python3"
  },
  "language_info": {
   "codemirror_mode": {
    "name": "ipython",
    "version": 3
   },
   "file_extension": ".py",
   "mimetype": "text/x-python",
   "name": "python",
   "nbconvert_exporter": "python",
   "pygments_lexer": "ipython3",
   "version": "3.7.6"
  }
 },
 "nbformat": 4,
 "nbformat_minor": 2
}
