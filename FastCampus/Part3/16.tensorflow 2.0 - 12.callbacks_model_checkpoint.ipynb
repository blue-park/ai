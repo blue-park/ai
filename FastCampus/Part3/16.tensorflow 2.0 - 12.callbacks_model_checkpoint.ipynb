{
 "cells": [
  {
   "cell_type": "markdown",
   "metadata": {},
   "source": [
    "# TensorFlow 2.0"
   ]
  },
  {
   "cell_type": "code",
   "execution_count": 1,
   "metadata": {},
   "outputs": [],
   "source": [
    "import os\n",
    "from glob import glob\n",
    "from datetime import datetime\n",
    "\n",
    "import numpy as np\n",
    "\n",
    "import tensorflow as tf\n",
    "from tensorflow.keras import layers\n",
    "\n",
    "from tensorflow.keras import datasets \n",
    "\n",
    "import matplotlib.pyplot as plt\n",
    "\n",
    "%matplotlib inline"
   ]
  },
  {
   "cell_type": "markdown",
   "metadata": {},
   "source": [
    "## Hyperparameter Tunning"
   ]
  },
  {
   "cell_type": "code",
   "execution_count": 2,
   "metadata": {},
   "outputs": [],
   "source": [
    "num_epochs = 20\n",
    "batch_size = 32\n",
    "\n",
    "learning_rate = 0.001\n",
    "\n",
    "dropout_rate = 0.5\n",
    "\n",
    "input_shape = (32, 32, 3)\n",
    "num_classes = 10"
   ]
  },
  {
   "cell_type": "markdown",
   "metadata": {},
   "source": [
    "## Build Model"
   ]
  },
  {
   "cell_type": "code",
   "execution_count": 3,
   "metadata": {},
   "outputs": [],
   "source": [
    "inputs = layers.Input(input_shape)\n",
    "\n",
    "net = layers.Conv2D(32, (3, 3), padding='SAME')(inputs)\n",
    "net = layers.Activation('relu')(net)\n",
    "net = layers.Conv2D(32, (3, 3), padding='SAME')(net)\n",
    "net = layers.Activation('relu')(net)\n",
    "net = layers.MaxPooling2D(pool_size=(2, 2))(net)\n",
    "net = layers.Dropout(dropout_rate)(net)\n",
    "\n",
    "net = layers.Conv2D(64, (3, 3), padding='SAME')(net)\n",
    "net = layers.Activation('relu')(net)\n",
    "net = layers.Conv2D(64, (3, 3), padding='SAME')(net)\n",
    "net = layers.Activation('relu')(net)\n",
    "net = layers.MaxPooling2D(pool_size=(2, 2))(net)\n",
    "net = layers.Dropout(dropout_rate)(net)\n",
    "\n",
    "net = layers.Flatten()(net)\n",
    "net = layers.Dense(512)(net)\n",
    "net = layers.Activation('relu')(net)\n",
    "net = layers.Dropout(dropout_rate)(net)\n",
    "net = layers.Dense(num_classes)(net)\n",
    "net = layers.Activation('softmax')(net)\n",
    "\n",
    "model = tf.keras.Model(inputs=inputs, outputs=net, name='Basic_CNN')"
   ]
  },
  {
   "cell_type": "code",
   "execution_count": 4,
   "metadata": {},
   "outputs": [],
   "source": [
    "# Model is the full model w/o custom layers\n",
    "model.compile(optimizer=tf.keras.optimizers.Adam(learning_rate),  # Optimization\n",
    "              loss='sparse_categorical_crossentropy',  # Loss Function \n",
    "              metrics=['accuracy'])  # Metrics / Accuracy"
   ]
  },
  {
   "cell_type": "markdown",
   "metadata": {},
   "source": [
    "# Data Preprocess"
   ]
  },
  {
   "cell_type": "code",
   "execution_count": 5,
   "metadata": {},
   "outputs": [],
   "source": [
    "train_paths = glob('dataset/cifar/train/*.png')[:1000]\n",
    "test_paths = glob('dataset/cifar/test/*.png')[:1000]"
   ]
  },
  {
   "cell_type": "code",
   "execution_count": 6,
   "metadata": {},
   "outputs": [
    {
     "data": {
      "text/plain": [
       "1000"
      ]
     },
     "execution_count": 6,
     "metadata": {},
     "output_type": "execute_result"
    }
   ],
   "source": [
    "len(train_paths)"
   ]
  },
  {
   "cell_type": "code",
   "execution_count": 7,
   "metadata": {},
   "outputs": [],
   "source": [
    "def get_class_name(path):\n",
    "    return path.split('_')[-1].replace('.png', '')"
   ]
  },
  {
   "cell_type": "code",
   "execution_count": 8,
   "metadata": {},
   "outputs": [],
   "source": [
    "train_labels = [get_class_name(path) for path in train_paths]\n",
    "class_names = np.unique(train_labels)"
   ]
  },
  {
   "cell_type": "code",
   "execution_count": 9,
   "metadata": {},
   "outputs": [],
   "source": [
    "def get_label(path):\n",
    "    fname = tf.strings.split(path, '_')[-1]\n",
    "    lbl_name = tf.strings.regex_replace(fname, '.png', '')\n",
    "    onehot = tf.cast(lbl_name == class_names, tf.uint8)\n",
    "    return tf.argmax(onehot)  # 이번에는 onehot이 아닌 label 번호로"
   ]
  },
  {
   "cell_type": "code",
   "execution_count": 10,
   "metadata": {},
   "outputs": [],
   "source": [
    "def load_image_label(path):\n",
    "    gfile = tf.io.read_file(path)\n",
    "    image = tf.io.decode_image(gfile)\n",
    "    image = tf.cast(image, tf.float32) / 255.  # rescale\n",
    "    \n",
    "    label = get_label(path)\n",
    "    return image, label"
   ]
  },
  {
   "cell_type": "code",
   "execution_count": 11,
   "metadata": {},
   "outputs": [],
   "source": [
    "def image_preprocess(image, label):\n",
    "    image = tf.image.random_flip_up_down(image)\n",
    "    image = tf.image.random_flip_left_right(image)\n",
    "    return image, label"
   ]
  },
  {
   "cell_type": "code",
   "execution_count": 12,
   "metadata": {},
   "outputs": [],
   "source": [
    "AUTOTUNE = tf.data.experimental.AUTOTUNE"
   ]
  },
  {
   "cell_type": "code",
   "execution_count": 13,
   "metadata": {
    "scrolled": false
   },
   "outputs": [],
   "source": [
    "train_dataset = tf.data.Dataset.from_tensor_slices(train_paths)\n",
    "train_dataset = train_dataset.map(load_image_label, num_parallel_calls=AUTOTUNE)\n",
    "train_dataset = train_dataset.map(image_preprocess, num_parallel_calls=AUTOTUNE)\n",
    "train_dataset = train_dataset.batch(batch_size)\n",
    "train_dataset = train_dataset.shuffle(buffer_size=len(train_paths))\n",
    "train_dataset = train_dataset.repeat()"
   ]
  },
  {
   "cell_type": "code",
   "execution_count": 14,
   "metadata": {},
   "outputs": [],
   "source": [
    "test_dataset = tf.data.Dataset.from_tensor_slices(test_paths)\n",
    "test_dataset = test_dataset.map(load_image_label, num_parallel_calls=AUTOTUNE)\n",
    "test_dataset = test_dataset.batch(batch_size)\n",
    "test_dataset = test_dataset.repeat()"
   ]
  },
  {
   "cell_type": "markdown",
   "metadata": {},
   "source": [
    "# Checkpoint"
   ]
  },
  {
   "cell_type": "code",
   "execution_count": 15,
   "metadata": {},
   "outputs": [],
   "source": [
    "save_path = 'checkpoints'"
   ]
  },
  {
   "cell_type": "code",
   "execution_count": 16,
   "metadata": {},
   "outputs": [],
   "source": [
    "checkpoint = tf.keras.callbacks.ModelCheckpoint(save_path, monitor='val_accuracy', verbose=1, save_best_only=True)"
   ]
  },
  {
   "cell_type": "markdown",
   "metadata": {},
   "source": [
    "## Training"
   ]
  },
  {
   "cell_type": "code",
   "execution_count": 18,
   "metadata": {},
   "outputs": [
    {
     "name": "stdout",
     "output_type": "stream",
     "text": [
      "Epoch 1/20\n",
      "31/31 [==============================] - 8s 133ms/step - loss: 2.2970 - accuracy: 0.1064 - val_loss: 2.2545 - val_accuracy: 0.1472\n",
      "\n",
      "Epoch 00001: val_accuracy improved from -inf to 0.14718, saving model to checkpoints\n",
      "INFO:tensorflow:Assets written to: checkpoints\\assets\n",
      "Epoch 2/20\n",
      "31/31 [==============================] - 5s 154ms/step - loss: 2.2576 - accuracy: 0.1663 - val_loss: 2.2152 - val_accuracy: 0.1603\n",
      "\n",
      "Epoch 00002: val_accuracy improved from 0.14718 to 0.16028, saving model to checkpoints\n",
      "INFO:tensorflow:Assets written to: checkpoints\\assets\n",
      "Epoch 3/20\n",
      "31/31 [==============================] - 6s 204ms/step - loss: 2.1805 - accuracy: 0.1983 - val_loss: 2.1003 - val_accuracy: 0.2137\n",
      "\n",
      "Epoch 00003: val_accuracy improved from 0.16028 to 0.21371, saving model to checkpoints\n",
      "INFO:tensorflow:Assets written to: checkpoints\\assets\n",
      "Epoch 4/20\n",
      "31/31 [==============================] - 4s 148ms/step - loss: 2.0859 - accuracy: 0.2262 - val_loss: 2.0045 - val_accuracy: 0.2520\n",
      "\n",
      "Epoch 00004: val_accuracy improved from 0.21371 to 0.25202, saving model to checkpoints\n",
      "INFO:tensorflow:Assets written to: checkpoints\\assets\n",
      "Epoch 5/20\n",
      "31/31 [==============================] - 5s 168ms/step - loss: 2.0652 - accuracy: 0.2066 - val_loss: 2.0178 - val_accuracy: 0.2339\n",
      "\n",
      "Epoch 00005: val_accuracy did not improve from 0.25202\n",
      "Epoch 6/20\n",
      "31/31 [==============================] - 6s 196ms/step - loss: 2.0121 - accuracy: 0.2479 - val_loss: 2.0346 - val_accuracy: 0.2308\n",
      "\n",
      "Epoch 00006: val_accuracy did not improve from 0.25202\n",
      "Epoch 7/20\n",
      "31/31 [==============================] - 6s 180ms/step - loss: 1.9997 - accuracy: 0.2480 - val_loss: 1.9610 - val_accuracy: 0.2681\n",
      "\n",
      "Epoch 00007: val_accuracy improved from 0.25202 to 0.26815, saving model to checkpoints\n",
      "INFO:tensorflow:Assets written to: checkpoints\\assets\n",
      "Epoch 8/20\n",
      "31/31 [==============================] - 6s 189ms/step - loss: 1.9010 - accuracy: 0.2807 - val_loss: 1.9489 - val_accuracy: 0.2752\n",
      "\n",
      "Epoch 00008: val_accuracy improved from 0.26815 to 0.27520, saving model to checkpoints\n",
      "INFO:tensorflow:Assets written to: checkpoints\\assets\n",
      "Epoch 9/20\n",
      "31/31 [==============================] - 5s 155ms/step - loss: 1.8670 - accuracy: 0.2994 - val_loss: 1.9052 - val_accuracy: 0.2863\n",
      "\n",
      "Epoch 00009: val_accuracy improved from 0.27520 to 0.28629, saving model to checkpoints\n",
      "INFO:tensorflow:Assets written to: checkpoints\\assets\n",
      "Epoch 10/20\n",
      "31/31 [==============================] - 5s 154ms/step - loss: 1.8555 - accuracy: 0.3199 - val_loss: 1.8818 - val_accuracy: 0.2873\n",
      "\n",
      "Epoch 00010: val_accuracy improved from 0.28629 to 0.28730, saving model to checkpoints\n",
      "INFO:tensorflow:Assets written to: checkpoints\\assets\n",
      "Epoch 11/20\n",
      "31/31 [==============================] - 6s 205ms/step - loss: 1.8466 - accuracy: 0.3165 - val_loss: 1.8861 - val_accuracy: 0.3095\n",
      "\n",
      "Epoch 00011: val_accuracy improved from 0.28730 to 0.30948, saving model to checkpoints\n",
      "INFO:tensorflow:Assets written to: checkpoints\\assets\n",
      "Epoch 12/20\n",
      "31/31 [==============================] - 6s 206ms/step - loss: 1.7902 - accuracy: 0.3285 - val_loss: 1.7986 - val_accuracy: 0.3478\n",
      "\n",
      "Epoch 00012: val_accuracy improved from 0.30948 to 0.34778, saving model to checkpoints\n",
      "INFO:tensorflow:Assets written to: checkpoints\\assets\n",
      "Epoch 13/20\n",
      "31/31 [==============================] - 6s 182ms/step - loss: 1.7776 - accuracy: 0.3326 - val_loss: 1.8179 - val_accuracy: 0.3427\n",
      "\n",
      "Epoch 00013: val_accuracy did not improve from 0.34778\n",
      "Epoch 14/20\n",
      "31/31 [==============================] - 8s 255ms/step - loss: 1.7737 - accuracy: 0.3223 - val_loss: 1.7664 - val_accuracy: 0.3599\n",
      "\n",
      "Epoch 00014: val_accuracy improved from 0.34778 to 0.35988, saving model to checkpoints\n",
      "INFO:tensorflow:Assets written to: checkpoints\\assets\n",
      "Epoch 15/20\n",
      "31/31 [==============================] - 5s 174ms/step - loss: 1.7033 - accuracy: 0.3843 - val_loss: 1.7236 - val_accuracy: 0.3851\n",
      "\n",
      "Epoch 00015: val_accuracy improved from 0.35988 to 0.38508, saving model to checkpoints\n",
      "INFO:tensorflow:Assets written to: checkpoints\\assets\n",
      "Epoch 16/20\n",
      "31/31 [==============================] - 6s 182ms/step - loss: 1.6748 - accuracy: 0.3679 - val_loss: 1.8796 - val_accuracy: 0.3044\n",
      "\n",
      "Epoch 00016: val_accuracy did not improve from 0.38508\n",
      "Epoch 17/20\n",
      "31/31 [==============================] - 6s 203ms/step - loss: 1.6973 - accuracy: 0.3845 - val_loss: 1.7368 - val_accuracy: 0.3417\n",
      "\n",
      "Epoch 00017: val_accuracy did not improve from 0.38508\n",
      "Epoch 18/20\n",
      "31/31 [==============================] - 6s 184ms/step - loss: 1.6222 - accuracy: 0.3942 - val_loss: 1.7135 - val_accuracy: 0.3901\n",
      "\n",
      "Epoch 00018: val_accuracy improved from 0.38508 to 0.39012, saving model to checkpoints\n",
      "INFO:tensorflow:Assets written to: checkpoints\\assets\n",
      "Epoch 19/20\n",
      "31/31 [==============================] - 6s 200ms/step - loss: 1.6374 - accuracy: 0.4143 - val_loss: 1.7178 - val_accuracy: 0.4062\n",
      "\n",
      "Epoch 00019: val_accuracy improved from 0.39012 to 0.40625, saving model to checkpoints\n",
      "INFO:tensorflow:Assets written to: checkpoints\\assets\n",
      "Epoch 20/20\n",
      "31/31 [==============================] - 20s 662ms/step - loss: 1.6319 - accuracy: 0.3983 - val_loss: 1.7292 - val_accuracy: 0.3498\n",
      "\n",
      "Epoch 00020: val_accuracy did not improve from 0.40625\n"
     ]
    },
    {
     "data": {
      "text/plain": [
       "<tensorflow.python.keras.callbacks.History at 0x1b235f84448>"
      ]
     },
     "execution_count": 18,
     "metadata": {},
     "output_type": "execute_result"
    }
   ],
   "source": [
    "steps_per_epoch = len(train_paths) // batch_size\n",
    "validation_steps = len(test_paths) // batch_size\n",
    "\n",
    "model.fit_generator(\n",
    "    train_dataset,\n",
    "    steps_per_epoch=steps_per_epoch,\n",
    "    validation_data=test_dataset,\n",
    "    validation_steps=validation_steps,\n",
    "    epochs=num_epochs,\n",
    "    callbacks=[checkpoint]\n",
    ")"
   ]
  },
  {
   "cell_type": "markdown",
   "metadata": {},
   "source": [
    "https://www.tensorflow.org/tensorboard/r2/image_summaries#setup"
   ]
  }
 ],
 "metadata": {
  "kernelspec": {
   "display_name": "Python 3",
   "language": "python",
   "name": "python3"
  },
  "language_info": {
   "codemirror_mode": {
    "name": "ipython",
    "version": 3
   },
   "file_extension": ".py",
   "mimetype": "text/x-python",
   "name": "python",
   "nbconvert_exporter": "python",
   "pygments_lexer": "ipython3",
   "version": "3.7.6"
  }
 },
 "nbformat": 4,
 "nbformat_minor": 2
}
