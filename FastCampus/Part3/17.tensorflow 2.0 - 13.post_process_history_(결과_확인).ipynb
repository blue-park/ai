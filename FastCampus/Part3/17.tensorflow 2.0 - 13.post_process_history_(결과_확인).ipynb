{
 "cells": [
  {
   "cell_type": "markdown",
   "metadata": {},
   "source": [
    "# TensorFlow 2.0"
   ]
  },
  {
   "cell_type": "code",
   "execution_count": 1,
   "metadata": {},
   "outputs": [],
   "source": [
    "import os\n",
    "from glob import glob\n",
    "from datetime import datetime\n",
    "\n",
    "import numpy as np\n",
    "\n",
    "import tensorflow as tf\n",
    "from tensorflow.keras import layers\n",
    "\n",
    "from tensorflow.keras import datasets \n",
    "\n",
    "import matplotlib.pyplot as plt\n",
    "\n",
    "%matplotlib inline"
   ]
  },
  {
   "cell_type": "markdown",
   "metadata": {},
   "source": [
    "## Hyperparameter Tunning"
   ]
  },
  {
   "cell_type": "code",
   "execution_count": 2,
   "metadata": {},
   "outputs": [],
   "source": [
    "num_epochs = 50\n",
    "batch_size = 32\n",
    "\n",
    "learning_rate = 0.001\n",
    "\n",
    "dropout_rate = 0.5\n",
    "\n",
    "input_shape = (32, 32, 3)\n",
    "num_classes = 10"
   ]
  },
  {
   "cell_type": "markdown",
   "metadata": {},
   "source": [
    "## Build Model"
   ]
  },
  {
   "cell_type": "code",
   "execution_count": 3,
   "metadata": {},
   "outputs": [],
   "source": [
    "inputs = layers.Input(input_shape)\n",
    "\n",
    "net = layers.Conv2D(32, (3, 3), padding='SAME')(inputs)\n",
    "net = layers.Activation('relu')(net)\n",
    "net = layers.Conv2D(32, (3, 3), padding='SAME')(net)\n",
    "net = layers.Activation('relu')(net)\n",
    "net = layers.MaxPooling2D(pool_size=(2, 2))(net)\n",
    "net = layers.Dropout(dropout_rate)(net)\n",
    "\n",
    "net = layers.Conv2D(64, (3, 3), padding='SAME')(net)\n",
    "net = layers.Activation('relu')(net)\n",
    "net = layers.Conv2D(64, (3, 3), padding='SAME')(net)\n",
    "net = layers.Activation('relu')(net)\n",
    "net = layers.MaxPooling2D(pool_size=(2, 2))(net)\n",
    "net = layers.Dropout(dropout_rate)(net)\n",
    "\n",
    "net = layers.Flatten()(net)\n",
    "net = layers.Dense(512)(net)\n",
    "net = layers.Activation('relu')(net)\n",
    "net = layers.Dropout(dropout_rate)(net)\n",
    "net = layers.Dense(num_classes)(net)\n",
    "net = layers.Activation('softmax')(net)\n",
    "\n",
    "model = tf.keras.Model(inputs=inputs, outputs=net, name='Basic_CNN')"
   ]
  },
  {
   "cell_type": "code",
   "execution_count": 4,
   "metadata": {},
   "outputs": [],
   "source": [
    "# Model is the full model w/o custom layers\n",
    "model.compile(optimizer=tf.keras.optimizers.Adam(learning_rate),  # Optimization\n",
    "              loss='sparse_categorical_crossentropy',  # Loss Function \n",
    "              metrics=['accuracy'])  # Metrics / Accuracy"
   ]
  },
  {
   "cell_type": "markdown",
   "metadata": {},
   "source": [
    "# Data Preprocess"
   ]
  },
  {
   "cell_type": "code",
   "execution_count": 5,
   "metadata": {},
   "outputs": [],
   "source": [
    "train_paths = glob('dataset/cifar/train/*.png')[:1000]\n",
    "test_paths = glob('dataset/cifar/test/*.png')[:1000]"
   ]
  },
  {
   "cell_type": "code",
   "execution_count": 6,
   "metadata": {},
   "outputs": [],
   "source": [
    "def get_class_name(path):\n",
    "    return path.split('_')[-1].replace('.png', '')"
   ]
  },
  {
   "cell_type": "code",
   "execution_count": 7,
   "metadata": {},
   "outputs": [],
   "source": [
    "train_labels = [get_class_name(path) for path in train_paths]\n",
    "class_names = np.unique(train_labels)"
   ]
  },
  {
   "cell_type": "code",
   "execution_count": 8,
   "metadata": {},
   "outputs": [],
   "source": [
    "def get_label(path):\n",
    "    fname = tf.strings.split(path, '_')[-1]\n",
    "    lbl_name = tf.strings.regex_replace(fname, '.png', '')\n",
    "    onehot = tf.cast(lbl_name == class_names, tf.uint8)\n",
    "    return tf.argmax(onehot)  # 이번에는 onehot이 아닌 label 번호로"
   ]
  },
  {
   "cell_type": "code",
   "execution_count": 9,
   "metadata": {},
   "outputs": [],
   "source": [
    "def load_image_label(path):\n",
    "    gfile = tf.io.read_file(path)\n",
    "    image = tf.io.decode_image(gfile)\n",
    "    image = tf.cast(image, tf.float32) / 255.  # rescale\n",
    "    \n",
    "    label = get_label(path)\n",
    "    return image, label"
   ]
  },
  {
   "cell_type": "code",
   "execution_count": 10,
   "metadata": {},
   "outputs": [],
   "source": [
    "def image_preprocess(image, label):\n",
    "    image = tf.image.random_flip_up_down(image)\n",
    "    image = tf.image.random_flip_left_right(image)\n",
    "    return image, label"
   ]
  },
  {
   "cell_type": "code",
   "execution_count": 11,
   "metadata": {},
   "outputs": [],
   "source": [
    "AUTOTUNE = tf.data.experimental.AUTOTUNE"
   ]
  },
  {
   "cell_type": "code",
   "execution_count": 12,
   "metadata": {
    "scrolled": false
   },
   "outputs": [],
   "source": [
    "train_dataset = tf.data.Dataset.from_tensor_slices(train_paths)\n",
    "train_dataset = train_dataset.map(load_image_label, num_parallel_calls=AUTOTUNE)\n",
    "train_dataset = train_dataset.map(image_preprocess, num_parallel_calls=AUTOTUNE)\n",
    "train_dataset = train_dataset.batch(batch_size)\n",
    "train_dataset = train_dataset.shuffle(buffer_size=len(train_paths))\n",
    "train_dataset = train_dataset.repeat()"
   ]
  },
  {
   "cell_type": "code",
   "execution_count": 13,
   "metadata": {},
   "outputs": [],
   "source": [
    "test_dataset = tf.data.Dataset.from_tensor_slices(test_paths)\n",
    "test_dataset = test_dataset.map(load_image_label, num_parallel_calls=AUTOTUNE)\n",
    "test_dataset = test_dataset.batch(batch_size)\n",
    "test_dataset = test_dataset.repeat()"
   ]
  },
  {
   "cell_type": "markdown",
   "metadata": {},
   "source": [
    "## Training"
   ]
  },
  {
   "cell_type": "markdown",
   "metadata": {},
   "source": [
    "http://localhost:6006"
   ]
  },
  {
   "cell_type": "code",
   "execution_count": 14,
   "metadata": {
    "scrolled": false
   },
   "outputs": [
    {
     "name": "stderr",
     "output_type": "stream",
     "text": [
      "C:\\Users\\LGCNS\\Anaconda3\\lib\\site-packages\\tensorflow\\python\\keras\\engine\\training.py:1844: UserWarning: `Model.fit_generator` is deprecated and will be removed in a future version. Please use `Model.fit`, which supports generators.\n",
      "  warnings.warn('`Model.fit_generator` is deprecated and '\n"
     ]
    },
    {
     "name": "stdout",
     "output_type": "stream",
     "text": [
      "Epoch 1/50\n",
      "31/31 [==============================] - 24s 303ms/step - loss: 2.3336 - accuracy: 0.1230 - val_loss: 2.2812 - val_accuracy: 0.1139\n",
      "Epoch 2/50\n",
      "31/31 [==============================] - 5s 172ms/step - loss: 2.2367 - accuracy: 0.1371 - val_loss: 2.1798 - val_accuracy: 0.2067\n",
      "Epoch 3/50\n",
      "31/31 [==============================] - 5s 153ms/step - loss: 2.2105 - accuracy: 0.1855 - val_loss: 2.1419 - val_accuracy: 0.2198\n",
      "Epoch 4/50\n",
      "31/31 [==============================] - 5s 157ms/step - loss: 2.1130 - accuracy: 0.2108 - val_loss: 2.0552 - val_accuracy: 0.2651\n",
      "Epoch 5/50\n",
      "31/31 [==============================] - 6s 199ms/step - loss: 2.0543 - accuracy: 0.2377 - val_loss: 2.0448 - val_accuracy: 0.2601\n",
      "Epoch 6/50\n",
      "31/31 [==============================] - 6s 185ms/step - loss: 2.0089 - accuracy: 0.2646 - val_loss: 1.9649 - val_accuracy: 0.2490\n",
      "Epoch 7/50\n",
      "31/31 [==============================] - 5s 163ms/step - loss: 1.9431 - accuracy: 0.2474 - val_loss: 1.9210 - val_accuracy: 0.2792\n",
      "Epoch 8/50\n",
      "31/31 [==============================] - 5s 171ms/step - loss: 1.9012 - accuracy: 0.2676 - val_loss: 1.9368 - val_accuracy: 0.2893\n",
      "Epoch 9/50\n",
      "31/31 [==============================] - 5s 180ms/step - loss: 1.8363 - accuracy: 0.2886 - val_loss: 1.8709 - val_accuracy: 0.2913\n",
      "Epoch 10/50\n",
      "31/31 [==============================] - 5s 170ms/step - loss: 1.8835 - accuracy: 0.2893 - val_loss: 1.8174 - val_accuracy: 0.3085\n",
      "Epoch 11/50\n",
      "31/31 [==============================] - 5s 177ms/step - loss: 1.8248 - accuracy: 0.3165 - val_loss: 1.7824 - val_accuracy: 0.3226\n",
      "Epoch 12/50\n",
      "31/31 [==============================] - 5s 177ms/step - loss: 1.8474 - accuracy: 0.3075 - val_loss: 1.8566 - val_accuracy: 0.3014\n",
      "Epoch 13/50\n",
      "31/31 [==============================] - 5s 170ms/step - loss: 1.7626 - accuracy: 0.3334 - val_loss: 1.7592 - val_accuracy: 0.3558\n",
      "Epoch 14/50\n",
      "31/31 [==============================] - 5s 159ms/step - loss: 1.7816 - accuracy: 0.3071 - val_loss: 1.7520 - val_accuracy: 0.3357\n",
      "Epoch 15/50\n",
      "31/31 [==============================] - 6s 182ms/step - loss: 1.6842 - accuracy: 0.3640 - val_loss: 1.6969 - val_accuracy: 0.3528\n",
      "Epoch 16/50\n",
      "31/31 [==============================] - 5s 168ms/step - loss: 1.6313 - accuracy: 0.3981 - val_loss: 1.7000 - val_accuracy: 0.3619\n",
      "Epoch 17/50\n",
      "31/31 [==============================] - 5s 153ms/step - loss: 1.6512 - accuracy: 0.4087 - val_loss: 1.7151 - val_accuracy: 0.3488\n",
      "Epoch 18/50\n",
      "31/31 [==============================] - 6s 196ms/step - loss: 1.6080 - accuracy: 0.3883 - val_loss: 1.7696 - val_accuracy: 0.3669\n",
      "Epoch 19/50\n",
      "31/31 [==============================] - 6s 186ms/step - loss: 1.6173 - accuracy: 0.3868 - val_loss: 1.6444 - val_accuracy: 0.3810\n",
      "Epoch 20/50\n",
      "31/31 [==============================] - 5s 167ms/step - loss: 1.6461 - accuracy: 0.3823 - val_loss: 1.6270 - val_accuracy: 0.4103\n",
      "Epoch 21/50\n",
      "31/31 [==============================] - 6s 200ms/step - loss: 1.5719 - accuracy: 0.4237 - val_loss: 1.6516 - val_accuracy: 0.3942\n",
      "Epoch 22/50\n",
      "31/31 [==============================] - 6s 180ms/step - loss: 1.5418 - accuracy: 0.4158 - val_loss: 1.6407 - val_accuracy: 0.4133\n",
      "Epoch 23/50\n",
      "31/31 [==============================] - 5s 159ms/step - loss: 1.5079 - accuracy: 0.4553 - val_loss: 1.6481 - val_accuracy: 0.4143\n",
      "Epoch 24/50\n",
      "31/31 [==============================] - 5s 175ms/step - loss: 1.4456 - accuracy: 0.4712 - val_loss: 1.6253 - val_accuracy: 0.4204\n",
      "Epoch 25/50\n",
      "31/31 [==============================] - 6s 202ms/step - loss: 1.4444 - accuracy: 0.4707 - val_loss: 1.6375 - val_accuracy: 0.3982\n",
      "Epoch 26/50\n",
      "31/31 [==============================] - 8s 268ms/step - loss: 1.4148 - accuracy: 0.4998 - val_loss: 1.6171 - val_accuracy: 0.4204\n",
      "Epoch 27/50\n",
      "31/31 [==============================] - 6s 213ms/step - loss: 1.4006 - accuracy: 0.5094 - val_loss: 1.6538 - val_accuracy: 0.4123\n",
      "Epoch 28/50\n",
      "31/31 [==============================] - 5s 173ms/step - loss: 1.4469 - accuracy: 0.4931 - val_loss: 1.6004 - val_accuracy: 0.4254\n",
      "Epoch 29/50\n",
      "31/31 [==============================] - 4s 139ms/step - loss: 1.3912 - accuracy: 0.4632 - val_loss: 1.6288 - val_accuracy: 0.4224\n",
      "Epoch 30/50\n",
      "31/31 [==============================] - 6s 189ms/step - loss: 1.3305 - accuracy: 0.5023 - val_loss: 1.6022 - val_accuracy: 0.4294\n",
      "Epoch 31/50\n",
      "31/31 [==============================] - 7s 221ms/step - loss: 1.3395 - accuracy: 0.5029 - val_loss: 1.5704 - val_accuracy: 0.4315\n",
      "Epoch 32/50\n",
      "31/31 [==============================] - 5s 176ms/step - loss: 1.3285 - accuracy: 0.5092 - val_loss: 1.6277 - val_accuracy: 0.4183\n",
      "Epoch 33/50\n",
      "31/31 [==============================] - 6s 188ms/step - loss: 1.3014 - accuracy: 0.5493 - val_loss: 1.5782 - val_accuracy: 0.4264\n",
      "Epoch 34/50\n",
      "31/31 [==============================] - 5s 172ms/step - loss: 1.2582 - accuracy: 0.5660 - val_loss: 1.6608 - val_accuracy: 0.4194\n",
      "Epoch 35/50\n",
      "31/31 [==============================] - 5s 166ms/step - loss: 1.2040 - accuracy: 0.5639 - val_loss: 1.6444 - val_accuracy: 0.4294\n",
      "Epoch 36/50\n",
      "31/31 [==============================] - 4s 143ms/step - loss: 1.2654 - accuracy: 0.5179 - val_loss: 1.7286 - val_accuracy: 0.4083\n",
      "Epoch 37/50\n",
      "31/31 [==============================] - 4s 142ms/step - loss: 1.2369 - accuracy: 0.5631 - val_loss: 1.7199 - val_accuracy: 0.4214\n",
      "Epoch 38/50\n",
      "31/31 [==============================] - 5s 163ms/step - loss: 1.1581 - accuracy: 0.5871 - val_loss: 1.7293 - val_accuracy: 0.4002\n",
      "Epoch 39/50\n",
      "31/31 [==============================] - 4s 133ms/step - loss: 1.2484 - accuracy: 0.5497 - val_loss: 1.6427 - val_accuracy: 0.4264\n",
      "Epoch 40/50\n",
      "31/31 [==============================] - 4s 133ms/step - loss: 1.2076 - accuracy: 0.5643 - val_loss: 1.6268 - val_accuracy: 0.4325\n",
      "Epoch 41/50\n",
      "31/31 [==============================] - 6s 207ms/step - loss: 1.1318 - accuracy: 0.6017 - val_loss: 1.6073 - val_accuracy: 0.4395\n",
      "Epoch 42/50\n",
      "31/31 [==============================] - 8s 248ms/step - loss: 1.1052 - accuracy: 0.6141 - val_loss: 1.6103 - val_accuracy: 0.4365\n",
      "Epoch 43/50\n",
      "31/31 [==============================] - 8s 257ms/step - loss: 1.1102 - accuracy: 0.6044 - val_loss: 1.5855 - val_accuracy: 0.4405\n",
      "Epoch 44/50\n",
      "31/31 [==============================] - 6s 198ms/step - loss: 1.1278 - accuracy: 0.6145 - val_loss: 1.6660 - val_accuracy: 0.4425\n",
      "Epoch 45/50\n",
      "31/31 [==============================] - 5s 165ms/step - loss: 1.0768 - accuracy: 0.6119 - val_loss: 1.7094 - val_accuracy: 0.4274\n",
      "Epoch 46/50\n",
      "31/31 [==============================] - 5s 153ms/step - loss: 1.0899 - accuracy: 0.6255 - val_loss: 1.6323 - val_accuracy: 0.4567\n",
      "Epoch 47/50\n",
      "31/31 [==============================] - 6s 190ms/step - loss: 1.0680 - accuracy: 0.6189 - val_loss: 1.6212 - val_accuracy: 0.4435\n",
      "Epoch 48/50\n",
      "31/31 [==============================] - 7s 225ms/step - loss: 1.0481 - accuracy: 0.6059 - val_loss: 1.6823 - val_accuracy: 0.4405\n",
      "Epoch 49/50\n",
      "31/31 [==============================] - 6s 192ms/step - loss: 1.0797 - accuracy: 0.6025 - val_loss: 1.6893 - val_accuracy: 0.4425\n",
      "Epoch 50/50\n",
      "31/31 [==============================] - 5s 166ms/step - loss: 1.0200 - accuracy: 0.6448 - val_loss: 1.7681 - val_accuracy: 0.4355\n"
     ]
    }
   ],
   "source": [
    "steps_per_epoch = len(train_paths) // batch_size\n",
    "validation_steps = len(test_paths) // batch_size\n",
    "\n",
    "history = model.fit_generator(\n",
    "    train_dataset,\n",
    "    steps_per_epoch=steps_per_epoch,\n",
    "    validation_data=test_dataset,\n",
    "    validation_steps=validation_steps,\n",
    "    epochs=num_epochs\n",
    ")"
   ]
  },
  {
   "cell_type": "markdown",
   "metadata": {},
   "source": [
    "# History 들여다 보기 "
   ]
  },
  {
   "cell_type": "code",
   "execution_count": 15,
   "metadata": {},
   "outputs": [
    {
     "data": {
      "text/plain": [
       "dict_keys(['loss', 'accuracy', 'val_loss', 'val_accuracy'])"
      ]
     },
     "execution_count": 15,
     "metadata": {},
     "output_type": "execute_result"
    }
   ],
   "source": [
    "history.history.keys()"
   ]
  },
  {
   "cell_type": "code",
   "execution_count": 16,
   "metadata": {},
   "outputs": [
    {
     "data": {
      "text/plain": [
       "{'verbose': 1, 'epochs': 50, 'steps': 31}"
      ]
     },
     "execution_count": 16,
     "metadata": {},
     "output_type": "execute_result"
    }
   ],
   "source": [
    "history.params"
   ]
  },
  {
   "cell_type": "code",
   "execution_count": 17,
   "metadata": {},
   "outputs": [],
   "source": [
    "new_model = history.model"
   ]
  },
  {
   "cell_type": "code",
   "execution_count": 20,
   "metadata": {},
   "outputs": [
    {
     "data": {
      "image/png": "[encoded data removed]",
      "text/plain": [
       "<Figure size 432x288 with 1 Axes>"
      ]
     },
     "metadata": {
      "needs_background": "light"
     },
     "output_type": "display_data"
    }
   ],
   "source": [
    "plt.plot(history.history['accuracy'])\n",
    "plt.plot(history.history['val_accuracy'])\n",
    "plt.title(\"Model Accuracy\")\n",
    "plt.xlabel('epoch')\n",
    "plt.ylabel('accuracy')\n",
    "plt.legend(['train', 'validation'])\n",
    "plt.show()"
   ]
  },
  {
   "cell_type": "code",
   "execution_count": 21,
   "metadata": {},
   "outputs": [
    {
     "data": {
      "image/png": "[encoded data removed]",
      "text/plain": [
       "<Figure size 432x288 with 1 Axes>"
      ]
     },
     "metadata": {
      "needs_background": "light"
     },
     "output_type": "display_data"
    }
   ],
   "source": [
    "plt.plot(history.history['loss'])\n",
    "plt.plot(history.history['val_loss'])\n",
    "plt.title('Model Loss')\n",
    "plt.xlabel('epoch')\n",
    "plt.ylabel('loss')\n",
    "plt.legend(['train', 'validation'])\n",
    "plt.show()"
   ]
  },
  {
   "cell_type": "code",
   "execution_count": null,
   "metadata": {},
   "outputs": [],
   "source": []
  }
 ],
 "metadata": {
  "kernelspec": {
   "display_name": "Python 3",
   "language": "python",
   "name": "python3"
  },
  "language_info": {
   "codemirror_mode": {
    "name": "ipython",
    "version": 3
   },
   "file_extension": ".py",
   "mimetype": "text/x-python",
   "name": "python",
   "nbconvert_exporter": "python",
   "pygments_lexer": "ipython3",
   "version": "3.7.6"
  }
 },
 "nbformat": 4,
 "nbformat_minor": 2
}
