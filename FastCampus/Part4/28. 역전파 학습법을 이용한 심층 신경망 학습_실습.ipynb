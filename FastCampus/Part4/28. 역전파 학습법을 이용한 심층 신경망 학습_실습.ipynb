{
 "cells": [
  {
   "cell_type": "markdown",
   "metadata": {},
   "source": [
    "## 수치 미분을 이용한 심층 신경망 학습"
   ]
  },
  {
   "cell_type": "code",
   "execution_count": 1,
   "metadata": {},
   "outputs": [],
   "source": [
    "import time\n",
    "import numpy as np"
   ]
  },
  {
   "cell_type": "markdown",
   "metadata": {},
   "source": [
    "## 유틸리티 함수"
   ]
  },
  {
   "cell_type": "code",
   "execution_count": 2,
   "metadata": {},
   "outputs": [],
   "source": [
    "def _t(x):\n",
    "    return np.transpose(x)\n",
    "\n",
    "def _m(A, B):\n",
    "    return np.matmul(A, B)"
   ]
  },
  {
   "cell_type": "markdown",
   "metadata": {},
   "source": [
    "## Sigmoid 구현"
   ]
  },
  {
   "cell_type": "code",
   "execution_count": 3,
   "metadata": {},
   "outputs": [],
   "source": [
    "class Sigmoid:\n",
    "    def __init__(self):\n",
    "        self.last_o = 1\n",
    "\n",
    "    def __call__(self, x):\n",
    "        self.last_o = 1 / (1.0 + np.exp(-x))\n",
    "        return self.last_o\n",
    "\n",
    "    def grad(self):\n",
    "        return self.last_o * (1 - self.last_o)"
   ]
  },
  {
   "cell_type": "markdown",
   "metadata": {},
   "source": [
    "## Mean Squared Error 구현"
   ]
  },
  {
   "cell_type": "code",
   "execution_count": 4,
   "metadata": {},
   "outputs": [],
   "source": [
    "class MeanSquaredError:\n",
    "    def __init__(self):\n",
    "        # gradient\n",
    "        self.dh = 1        \n",
    "        self.last_diff = 1\n",
    "\n",
    "    def __call__(self, h, y):\n",
    "        self.last_diff = h - y\n",
    "        return 1 / 2 * np.mean(np.square(h - y))\n",
    "\n",
    "    def grad(self):\n",
    "        return self.last_diff"
   ]
  },
  {
   "cell_type": "markdown",
   "metadata": {},
   "source": [
    "## 뉴런 구현"
   ]
  },
  {
   "cell_type": "code",
   "execution_count": 5,
   "metadata": {},
   "outputs": [],
   "source": [
    "class Neuron:\n",
    "    def __init__(self, W, b, a_obj):\n",
    "        # Model Parameters\n",
    "        self.W = W\n",
    "        self.b = b\n",
    "        self.a = a_obj()\n",
    "        \n",
    "        # gradient\n",
    "        self.dW = np.zeros_like(self.W)\n",
    "        self.db = np.zeros_like(self.b)\n",
    "        self.dh = np.zeros_like(_t(self.W))\n",
    "        \n",
    "        self.last_x = np.zeros((self.W.shape[0]))\n",
    "\n",
    "    def __call__(self, x):\n",
    "        self.last_x = x\n",
    "        self.last_h = _m(_t(self.W), x) + self.b\n",
    "        return self.a(self.last_h)\n",
    "\n",
    "    def grad(self):\n",
    "        return self.W * self.a.grad()\n",
    "\n",
    "    def grad_W(self, dh):\n",
    "        grad = np.ones_like(self.W)\n",
    "        grad_a = self.a.grad()\n",
    "        for j in range(grad.shape[1]):\n",
    "            grad[:, j] = dh[j] * grad_a[j] * self.last_x\n",
    "        return grad\n",
    "    \n",
    "    def grad_b(self, dh):\n",
    "        return dh * self.a.grad()"
   ]
  },
  {
   "cell_type": "markdown",
   "metadata": {},
   "source": [
    "## 심층신경망 구현"
   ]
  },
  {
   "cell_type": "code",
   "execution_count": 6,
   "metadata": {},
   "outputs": [],
   "source": [
    "class DNN:\n",
    "    def __init__(self, hidden_depth, num_neuron, input, output, activation=Sigmoid):\n",
    "        def init_var(i, o):\n",
    "            return np.random.normal(0.0, 0.01, (i, o)), np.zeros((o,))\n",
    "\n",
    "        self.sequence = list()\n",
    "        # First hidden layer\n",
    "        W, b = init_var(input, num_neuron)\n",
    "        self.sequence.append(Neuron(W, b, activation))\n",
    "\n",
    "        # Hidden Layers\n",
    "        for index in range(hidden_depth):\n",
    "            W, b = init_var(num_neuron, num_neuron)\n",
    "            self.sequence.append(Neuron(W, b, activation))\n",
    "\n",
    "        # Output Layer\n",
    "        W, b = init_var(num_neuron, output)\n",
    "        self.sequence.append(Neuron(W, b, activation))\n",
    "\n",
    "    def __call__(self, x):\n",
    "        for layer in self.sequence:\n",
    "            x = layer(x)\n",
    "        return x\n",
    "\n",
    "    def calc_gradient(self, loss_obj):\n",
    "        loss_obj.dh = loss_obj.grad()\n",
    "        self.sequence.append(loss_obj)\n",
    "        \n",
    "        # back-prop loop\n",
    "        for i in range(len(self.sequence) - 1, 0, -1):\n",
    "            l1 = self.sequence[i]\n",
    "            l0 = self.sequence[i - 1]\n",
    "            \n",
    "            l0.dh = _m(l0.grad(), l1.dh)\n",
    "            l0.dW = l0.grad_W(l1.dh)\n",
    "            l0.db = l0.grad_b(l1.dh)\n",
    "            \n",
    "        self.sequence.remove(loss_obj)"
   ]
  },
  {
   "cell_type": "markdown",
   "metadata": {},
   "source": [
    "## 경사하강 학습법"
   ]
  },
  {
   "cell_type": "code",
   "execution_count": 7,
   "metadata": {},
   "outputs": [],
   "source": [
    "def gradient_descent(network, x, y, loss_obj, alpha=0.01):\n",
    "    loss = loss_obj(network(x), y)  # Forward inference\n",
    "    network.calc_gradient(loss_obj)  # Back-propagation\n",
    "    for layer in network.sequence:\n",
    "        layer.W += -alpha * layer.dW\n",
    "        layer.b += -alpha * layer.db\n",
    "    return loss"
   ]
  },
  {
   "cell_type": "markdown",
   "metadata": {},
   "source": [
    "## 동작 테스트"
   ]
  },
  {
   "cell_type": "code",
   "execution_count": 8,
   "metadata": {},
   "outputs": [
    {
     "name": "stdout",
     "output_type": "stream",
     "text": [
      "Epoch 0: Test loss 0.002716736419205693\n",
      "Epoch 1: Test loss 0.0026863217125910844\n",
      "Epoch 2: Test loss 0.0026562467528417517\n",
      "Epoch 3: Test loss 0.002626507861071494\n",
      "Epoch 4: Test loss 0.002597101393947308\n",
      "Epoch 5: Test loss 0.0025680237434735015\n",
      "Epoch 6: Test loss 0.002539271336773294\n",
      "Epoch 7: Test loss 0.002510840635868098\n",
      "Epoch 8: Test loss 0.002482728137454599\n",
      "Epoch 9: Test loss 0.0024549303726797604\n",
      "Epoch 10: Test loss 0.0024274439069138813\n",
      "Epoch 11: Test loss 0.0024002653395218433\n",
      "Epoch 12: Test loss 0.0023733913036326757\n",
      "Epoch 13: Test loss 0.0023468184659074832\n",
      "Epoch 14: Test loss 0.0023205435263060187\n",
      "Epoch 15: Test loss 0.0022945632178518046\n",
      "Epoch 16: Test loss 0.002268874306396065\n",
      "Epoch 17: Test loss 0.002243473590380533\n",
      "Epoch 18: Test loss 0.0022183579005992096\n",
      "Epoch 19: Test loss 0.00219352409995917\n",
      "Epoch 20: Test loss 0.002168969083240603\n",
      "Epoch 21: Test loss 0.002144689776856057\n",
      "Epoch 22: Test loss 0.002120683138609074\n",
      "Epoch 23: Test loss 0.002096946157452235\n",
      "Epoch 24: Test loss 0.0020734758532447756\n",
      "Epoch 25: Test loss 0.0020502692765097985\n",
      "Epoch 26: Test loss 0.0020273235081911646\n",
      "Epoch 27: Test loss 0.002004635659410201\n",
      "Epoch 28: Test loss 0.0019822028712222417\n",
      "Epoch 29: Test loss 0.001960022314373048\n",
      "Epoch 30: Test loss 0.0019380911890553476\n",
      "Epoch 31: Test loss 0.0019164067246652781\n",
      "Epoch 32: Test loss 0.0018949661795591235\n",
      "Epoch 33: Test loss 0.001873766840810136\n",
      "Epoch 34: Test loss 0.0018528060239656821\n",
      "Epoch 35: Test loss 0.0018320810728046787\n",
      "Epoch 36: Test loss 0.0018115893590954562\n",
      "Epoch 37: Test loss 0.001791328282353974\n",
      "Epoch 38: Test loss 0.0017712952696026468\n",
      "Epoch 39: Test loss 0.001751487775129602\n",
      "Epoch 40: Test loss 0.001731903280248616\n",
      "Epoch 41: Test loss 0.0017125392930596385\n",
      "Epoch 42: Test loss 0.0016933933482100698\n",
      "Epoch 43: Test loss 0.0016744630066566951\n",
      "Epoch 44: Test loss 0.0016557458554284931\n",
      "Epoch 45: Test loss 0.001637239507390174\n",
      "Epoch 46: Test loss 0.0016189416010066646\n",
      "Epoch 47: Test loss 0.001600849800108427\n",
      "Epoch 48: Test loss 0.0015829617936577748\n",
      "Epoch 49: Test loss 0.0015652752955161097\n",
      "Epoch 50: Test loss 0.001547788044212207\n",
      "Epoch 51: Test loss 0.0015304978027115275\n",
      "Epoch 52: Test loss 0.0015134023581866065\n",
      "Epoch 53: Test loss 0.0014964995217885276\n",
      "Epoch 54: Test loss 0.0014797871284195504\n",
      "Epoch 55: Test loss 0.0014632630365068915\n",
      "Epoch 56: Test loss 0.001446925127777683\n",
      "Epoch 57: Test loss 0.00143077130703514\n",
      "Epoch 58: Test loss 0.0014147995019359644\n",
      "Epoch 59: Test loss 0.001399007662769003\n",
      "Epoch 60: Test loss 0.0013833937622351822\n",
      "Epoch 61: Test loss 0.0013679557952287387\n",
      "Epoch 62: Test loss 0.0013526917786197464\n",
      "Epoch 63: Test loss 0.001337599751038021\n",
      "Epoch 64: Test loss 0.0013226777726583349\n",
      "Epoch 65: Test loss 0.0013079239249870038\n",
      "Epoch 66: Test loss 0.0012933363106498608\n",
      "Epoch 67: Test loss 0.0012789130531816392\n",
      "Epoch 68: Test loss 0.0012646522968167398\n",
      "Epoch 69: Test loss 0.0012505522062814234\n",
      "Epoch 70: Test loss 0.001236610966587441\n",
      "Epoch 71: Test loss 0.0012228267828271176\n",
      "Epoch 72: Test loss 0.0012091978799698485\n",
      "Epoch 73: Test loss 0.0011957225026601138\n",
      "Epoch 74: Test loss 0.0011823989150169154\n",
      "Epoch 75: Test loss 0.0011692254004347015\n",
      "Epoch 76: Test loss 0.0011562002613857859\n",
      "Epoch 77: Test loss 0.0011433218192242619\n",
      "Epoch 78: Test loss 0.0011305884139913795\n",
      "Epoch 79: Test loss 0.0011179984042224546\n",
      "Epoch 80: Test loss 0.0011055501667552807\n",
      "Epoch 81: Test loss 0.0010932420965400111\n",
      "Epoch 82: Test loss 0.0010810726064506067\n",
      "Epoch 83: Test loss 0.0010690401270977532\n",
      "Epoch 84: Test loss 0.0010571431066433118\n",
      "Epoch 85: Test loss 0.0010453800106162861\n",
      "Epoch 86: Test loss 0.0010337493217302957\n",
      "Epoch 87: Test loss 0.0010222495397025884\n",
      "Epoch 88: Test loss 0.0010108791810745337\n",
      "Epoch 89: Test loss 0.000999636779033674\n",
      "Epoch 90: Test loss 0.0009885208832372658\n",
      "Epoch 91: Test loss 0.0009775300596373351\n",
      "Epoch 92: Test loss 0.0009666628903072495\n",
      "Epoch 93: Test loss 0.0009559179732698198\n",
      "Epoch 94: Test loss 0.0009452939223268627\n",
      "Epoch 95: Test loss 0.0009347893668903194\n",
      "Epoch 96: Test loss 0.0009244029518148332\n",
      "Epoch 97: Test loss 0.0009141333372318526\n",
      "Epoch 98: Test loss 0.0009039791983852077\n",
      "Epoch 99: Test loss 0.0008939392254681856\n",
      "0.3138430118560791 seconds elapsed.\n"
     ]
    }
   ],
   "source": [
    "x = np.random.normal(0.0, 1.0, (10,))\n",
    "y = np.random.normal(0.0, 1.0, (2,))\n",
    "\n",
    "t = time.time()\n",
    "dnn = DNN(hidden_depth=5, num_neuron=32, input=10, output=2, activation=Sigmoid)\n",
    "loss_obj = MeanSquaredError()\n",
    "for epoch in range(100):\n",
    "    loss = gradient_descent(dnn, x, y, loss_obj, alpha=0.01)\n",
    "    print('Epoch {}: Test loss {}'.format(epoch, loss))\n",
    "print('{} seconds elapsed.'.format(time.time() - t))"
   ]
  },
  {
   "cell_type": "code",
   "execution_count": null,
   "metadata": {},
   "outputs": [],
   "source": []
  }
 ],
 "metadata": {
  "kernelspec": {
   "display_name": "Python 3",
   "language": "python",
   "name": "python3"
  },
  "language_info": {
   "codemirror_mode": {
    "name": "ipython",
    "version": 3
   },
   "file_extension": ".py",
   "mimetype": "text/x-python",
   "name": "python",
   "nbconvert_exporter": "python",
   "pygments_lexer": "ipython3",
   "version": "3.7.6"
  }
 },
 "nbformat": 4,
 "nbformat_minor": 2
}
