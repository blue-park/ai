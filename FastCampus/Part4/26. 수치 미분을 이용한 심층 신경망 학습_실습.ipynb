{
 "cells": [
  {
   "cell_type": "markdown",
   "metadata": {},
   "source": [
    "## 수치 미분을 이용한 심층 신경망 학습"
   ]
  },
  {
   "cell_type": "code",
   "execution_count": 1,
   "metadata": {},
   "outputs": [],
   "source": [
    "import time\n",
    "import numpy as np"
   ]
  },
  {
   "cell_type": "markdown",
   "metadata": {},
   "source": [
    "## 유틸리티 함수"
   ]
  },
  {
   "cell_type": "code",
   "execution_count": 2,
   "metadata": {},
   "outputs": [],
   "source": [
    "epsilon = 0.0001\n",
    "\n",
    "def _t(x):\n",
    "    return np.transpose(x)\n",
    "\n",
    "def _m(A, B):\n",
    "    return np.matmul(A, B)\n",
    "\n",
    "def sigmoid(x):\n",
    "    return 1 / (1 + np.exp(-x))\n",
    "\n",
    "def mean_squared_error(h, y):\n",
    "    return 1 / 2 * np.mean(np.square(h - y))"
   ]
  },
  {
   "cell_type": "markdown",
   "metadata": {},
   "source": [
    "## 뉴런 구현"
   ]
  },
  {
   "cell_type": "code",
   "execution_count": 3,
   "metadata": {},
   "outputs": [],
   "source": [
    "class Neuron:\n",
    "    def __init__(self, W, b, a):\n",
    "        # Model Parameter\n",
    "        self.W = W\n",
    "        self.b = b\n",
    "        self.a = a\n",
    "        \n",
    "        # Gradients\n",
    "        self.dW = np.zeros_like(self.W)\n",
    "        self.db = np.zeros_like(self.b)\n",
    "\n",
    "    def __call__(self, x):\n",
    "        # activation((W^T)x + b)\n",
    "        return self.a(_m(_t(self.W), x) + self.b)"
   ]
  },
  {
   "cell_type": "markdown",
   "metadata": {},
   "source": [
    "## 심층신경망 구현"
   ]
  },
  {
   "cell_type": "code",
   "execution_count": 7,
   "metadata": {},
   "outputs": [],
   "source": [
    "class DNN:\n",
    "    def __init__(self, hidden_depth, num_neuron, num_input, num_output, activation=sigmoid):\n",
    "        def init_var(i, o):\n",
    "            return np.random.normal(0.0, 0.01, (i, o)), np.zeros((o,))\n",
    "\n",
    "        self.sequence = list()\n",
    "        # First hidden layer\n",
    "        W, b = init_var(num_input, num_neuron)\n",
    "        self.sequence.append(Neuron(W, b, activation))\n",
    "        \n",
    "        # Hidden layers\n",
    "        for _ in range(hidden_depth - 1):\n",
    "            W, b = init_var(num_neuron, num_neuron)\n",
    "            self.sequence.append(Neuron(W, b, activation))\n",
    "\n",
    "        # Output layer\n",
    "        W, b = init_var(num_neuron, num_output)\n",
    "        self.sequence.append(Neuron(W, b, activation))\n",
    "\n",
    "    def __call__(self, x):\n",
    "        for layer in self.sequence:\n",
    "            x = layer(x)\n",
    "        return x\n",
    "\n",
    "    def calc_gradient(self, x, y, loss_func):\n",
    "        def get_new_sequence(layer_index, new_neuron):\n",
    "            new_sequence = list()\n",
    "            for i, layer in enumerate(self.sequence):\n",
    "                if i == layer_index:\n",
    "                    new_sequence.append(new_neuron)\n",
    "                else:\n",
    "                    new_sequence.append(layer)\n",
    "            return new_sequence\n",
    "        \n",
    "        def eval_sequence(x, sequence):\n",
    "            for layer in sequence:\n",
    "                x = layer(x)\n",
    "            return x\n",
    "        \n",
    "        loss = loss_func(self(x), y)\n",
    "        \n",
    "        for layer_id, layer in enumerate(self.sequence): # iterate layer\n",
    "            for w_i, w in enumerate(layer.W): # iterate W (row)\n",
    "                for w_j, ww in enumerate(w): # iterate W (col)\n",
    "                    W = np.copy(layer.W)\n",
    "                    W[w_i][w_j] = ww + epsilon\n",
    "                    \n",
    "                    new_neuron = Neuron(W, layer.b, layer.a)\n",
    "                    new_seq = get_new_sequence(layer_id, new_neuron)\n",
    "                    h = eval_sequence(x, new_seq)\n",
    "                    \n",
    "                    num_grad = (loss_func(h, y) - loss) / epsilon # (f(x+eps) - f(x)) / epsilon\n",
    "                    layer.dW[w_i][w_j] = num_grad\n",
    "                    \n",
    "                for b_i, bb in enumerate(layer.b):\n",
    "                    b = np.copy(layer.b)\n",
    "                    b[b_i] = bb + epsilon\n",
    "                    \n",
    "                    new_neuron = Neuron(layer.W, b, layer.a)\n",
    "                    new_seq = get_new_sequence(layer_id, new_neuron)\n",
    "                    h = eval_sequence(x, new_seq)\n",
    "                    \n",
    "                    num_grad = (loss_func(h, y) - loss) / epsilon # (f(x+eps) - f(x)) / epsilon\n",
    "                    layer.db[b_i] = num_grad\n",
    "                    \n",
    "        return loss"
   ]
  },
  {
   "cell_type": "markdown",
   "metadata": {},
   "source": [
    "## 경사하강 학습법"
   ]
  },
  {
   "cell_type": "code",
   "execution_count": 8,
   "metadata": {},
   "outputs": [],
   "source": [
    "def gradient_descent(network, x, y, loss_obj, alpha=0.01):\n",
    "    loss = network.calc_gradient(x, y, loss_obj)\n",
    "    for layer in network.sequence:\n",
    "        layer.W += -alpha * layer.dW\n",
    "        layer.b += -alpha * layer.db\n",
    "    return loss"
   ]
  },
  {
   "cell_type": "markdown",
   "metadata": {},
   "source": [
    "## 동작 테스트"
   ]
  },
  {
   "cell_type": "code",
   "execution_count": 9,
   "metadata": {},
   "outputs": [
    {
     "name": "stdout",
     "output_type": "stream",
     "text": [
      "Epoch 0: Test loss 0.015062855303251091\n",
      "Epoch 1: Test loss 0.014978820051285337\n",
      "Epoch 2: Test loss 0.014895254516424636\n",
      "Epoch 3: Test loss 0.014812156373040179\n",
      "Epoch 4: Test loss 0.014729523300882015\n",
      "Epoch 5: Test loss 0.014647352985171355\n",
      "Epoch 6: Test loss 0.014565643116694836\n",
      "Epoch 7: Test loss 0.014484391391895406\n",
      "Epoch 8: Test loss 0.014403595512961394\n",
      "Epoch 9: Test loss 0.014323253187913217\n",
      "Epoch 10: Test loss 0.014243362130688096\n",
      "Epoch 11: Test loss 0.01416392006122436\n",
      "Epoch 12: Test loss 0.014084924705541794\n",
      "Epoch 13: Test loss 0.01400637379582079\n",
      "Epoch 14: Test loss 0.013928265070480447\n",
      "Epoch 15: Test loss 0.013850596274254449\n",
      "Epoch 16: Test loss 0.013773365158264099\n",
      "Epoch 17: Test loss 0.013696569480090636\n",
      "Epoch 18: Test loss 0.013620207003845593\n",
      "Epoch 19: Test loss 0.01354427550023996\n",
      "Epoch 20: Test loss 0.013468772746649881\n",
      "Epoch 21: Test loss 0.013393696527182058\n",
      "Epoch 22: Test loss 0.01331904463273802\n",
      "Epoch 23: Test loss 0.013244814861073591\n",
      "Epoch 24: Test loss 0.013171005016861765\n",
      "Epoch 25: Test loss 0.01309761291174871\n",
      "Epoch 26: Test loss 0.013024636364411594\n",
      "Epoch 27: Test loss 0.012952073200614358\n",
      "Epoch 28: Test loss 0.012879921253259765\n",
      "Epoch 29: Test loss 0.012808178362443398\n",
      "Epoch 30: Test loss 0.01273684237550188\n",
      "Epoch 31: Test loss 0.012665911147063558\n",
      "Epoch 32: Test loss 0.012595382539095559\n",
      "Epoch 33: Test loss 0.012525254420949965\n",
      "Epoch 34: Test loss 0.012455524669407487\n",
      "Epoch 35: Test loss 0.01238619116872211\n",
      "Epoch 36: Test loss 0.012317251810661244\n",
      "Epoch 37: Test loss 0.01224870449454728\n",
      "Epoch 38: Test loss 0.012180547127295192\n",
      "Epoch 39: Test loss 0.012112777623451653\n",
      "Epoch 40: Test loss 0.012045393905230378\n",
      "Epoch 41: Test loss 0.01197839390254653\n",
      "Epoch 42: Test loss 0.01191177555305083\n",
      "Epoch 43: Test loss 0.0118455368021628\n",
      "Epoch 44: Test loss 0.011779675603099607\n",
      "Epoch 45: Test loss 0.011714189916907945\n",
      "Epoch 46: Test loss 0.011649077712491414\n",
      "Epoch 47: Test loss 0.011584336966637996\n",
      "Epoch 48: Test loss 0.011519965664046727\n",
      "Epoch 49: Test loss 0.011455961797351703\n",
      "Epoch 50: Test loss 0.011392323367146646\n",
      "Epoch 51: Test loss 0.011329048382007014\n",
      "Epoch 52: Test loss 0.011266134858512255\n",
      "Epoch 53: Test loss 0.011203580821264717\n",
      "Epoch 54: Test loss 0.01114138430291132\n",
      "Epoch 55: Test loss 0.011079543344159665\n",
      "Epoch 56: Test loss 0.011018055993795763\n",
      "Epoch 57: Test loss 0.010956920308700368\n",
      "Epoch 58: Test loss 0.010896134353863957\n",
      "Epoch 59: Test loss 0.01083569620240164\n",
      "Epoch 60: Test loss 0.010775603935564492\n",
      "Epoch 61: Test loss 0.010715855642753062\n",
      "Epoch 62: Test loss 0.010656449421528104\n",
      "Epoch 63: Test loss 0.010597383377621311\n",
      "Epoch 64: Test loss 0.010538655624943164\n",
      "Epoch 65: Test loss 0.010480264285592494\n",
      "Epoch 66: Test loss 0.010422207489864006\n",
      "Epoch 67: Test loss 0.010364483376253909\n",
      "Epoch 68: Test loss 0.010307090091466634\n",
      "Epoch 69: Test loss 0.01025002579041906\n",
      "Epoch 70: Test loss 0.010193288636244538\n",
      "Epoch 71: Test loss 0.010136876800296398\n",
      "Epoch 72: Test loss 0.010080788462149886\n",
      "Epoch 73: Test loss 0.010025021809604153\n",
      "Epoch 74: Test loss 0.009969575038682897\n",
      "Epoch 75: Test loss 0.009914446353633914\n",
      "Epoch 76: Test loss 0.009859633966929533\n",
      "Epoch 77: Test loss 0.009805136099263412\n",
      "Epoch 78: Test loss 0.009750950979550019\n",
      "Epoch 79: Test loss 0.00969707684492093\n",
      "Epoch 80: Test loss 0.009643511940720993\n",
      "Epoch 81: Test loss 0.009590254520503983\n",
      "Epoch 82: Test loss 0.009537302846028349\n",
      "Epoch 83: Test loss 0.009484655187251159\n",
      "Epoch 84: Test loss 0.009432309822321482\n",
      "Epoch 85: Test loss 0.009380265037573558\n",
      "Epoch 86: Test loss 0.009328519127519981\n",
      "Epoch 87: Test loss 0.009277070394842303\n",
      "Epoch 88: Test loss 0.009225917150383187\n",
      "Epoch 89: Test loss 0.009175057713136741\n",
      "Epoch 90: Test loss 0.009124490410238467\n",
      "Epoch 91: Test loss 0.00907421357695481\n",
      "Epoch 92: Test loss 0.009024225556672115\n",
      "Epoch 93: Test loss 0.008974524700885294\n",
      "Epoch 94: Test loss 0.008925109369185074\n",
      "Epoch 95: Test loss 0.008875977929245916\n",
      "Epoch 96: Test loss 0.008827128756812422\n",
      "Epoch 97: Test loss 0.00877856023568617\n",
      "Epoch 98: Test loss 0.008730270757710943\n",
      "Epoch 99: Test loss 0.008682258722758919\n",
      "256.5864288806915 seconds elapsed.\n"
     ]
    }
   ],
   "source": [
    "x = np.random.normal(0.0, 1.0, (10,))\n",
    "y = np.random.normal(0.0, 1.0, (2,))\n",
    "\n",
    "dnn = DNN(hidden_depth=5, num_neuron=32, num_input=10, num_output=2, activation=sigmoid)\n",
    "\n",
    "t = time.time()\n",
    "for epoch in range(100):\n",
    "    loss = gradient_descent(dnn, x, y, mean_squared_error, 0.01)\n",
    "    print('Epoch {}: Test loss {}'.format(epoch, loss))\n",
    "print('{} seconds elapsed.'.format(time.time() - t))"
   ]
  },
  {
   "cell_type": "code",
   "execution_count": null,
   "metadata": {},
   "outputs": [],
   "source": []
  }
 ],
 "metadata": {
  "kernelspec": {
   "display_name": "Python 3",
   "language": "python",
   "name": "python3"
  },
  "language_info": {
   "codemirror_mode": {
    "name": "ipython",
    "version": 3
   },
   "file_extension": ".py",
   "mimetype": "text/x-python",
   "name": "python",
   "nbconvert_exporter": "python",
   "pygments_lexer": "ipython3",
   "version": "3.7.6"
  }
 },
 "nbformat": 4,
 "nbformat_minor": 2
}
