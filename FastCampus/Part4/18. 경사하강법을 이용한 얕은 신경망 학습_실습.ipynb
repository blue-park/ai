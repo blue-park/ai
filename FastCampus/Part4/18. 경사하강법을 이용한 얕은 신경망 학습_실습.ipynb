{
 "cells": [
  {
   "cell_type": "markdown",
   "metadata": {},
   "source": [
    "# 경사 하강법을 이용한 얕은 신경망 학습\n"
   ]
  },
  {
   "cell_type": "code",
   "execution_count": 1,
   "metadata": {},
   "outputs": [],
   "source": [
    "import tensorflow as tf\n",
    "import numpy as np"
   ]
  },
  {
   "cell_type": "markdown",
   "metadata": {},
   "source": [
    "## 하이퍼 파라미터 설정"
   ]
  },
  {
   "cell_type": "code",
   "execution_count": 2,
   "metadata": {},
   "outputs": [],
   "source": [
    "EPOCHS = 100"
   ]
  },
  {
   "cell_type": "markdown",
   "metadata": {},
   "source": [
    "## 네트워크 구조 정의\n",
    "### 얕은 신경망\n",
    "#### 입력 계층 : 2, 은닉 계층 : 128 (Sigmoid activation), 출력 계층 : 10 (Softmax activation)"
   ]
  },
  {
   "cell_type": "code",
   "execution_count": 3,
   "metadata": {},
   "outputs": [],
   "source": [
    "class MyModel(tf.keras.Model):\n",
    "    def __init__(self):\n",
    "        super(MyModel, self).__init__()\n",
    "        self.d1 = tf.keras.layers.Dense(128, input_dim=2, activation='sigmoid')\n",
    "        self.d2 = tf.keras.layers.Dense(10, activation='softmax')\n",
    "        \n",
    "    def call(self, x, training=None, mask=None):\n",
    "        x = self.d1(x)\n",
    "        return self.d2(x)"
   ]
  },
  {
   "cell_type": "markdown",
   "metadata": {},
   "source": [
    "## 학습 루프 정의"
   ]
  },
  {
   "cell_type": "code",
   "execution_count": 4,
   "metadata": {},
   "outputs": [],
   "source": [
    "@tf.function\n",
    "def train_step(model, inputs, labels, loss_object, optimizer, train_loss, train_metric):\n",
    "    with tf.GradientTape() as tape:\n",
    "        predictions = model(inputs)\n",
    "        loss = loss_object(labels, predictions)\n",
    "        \n",
    "    gradients = tape.gradient(loss, model.trainable_variables) # df(x)/dx\n",
    "    \n",
    "    optimizer.apply_gradients(zip(gradients, model.trainable_variables))\n",
    "    train_loss(loss)\n",
    "    train_metric(labels, predictions)"
   ]
  },
  {
   "cell_type": "markdown",
   "metadata": {},
   "source": [
    "## 데이터셋 생성, 전처리"
   ]
  },
  {
   "cell_type": "code",
   "execution_count": 5,
   "metadata": {},
   "outputs": [],
   "source": [
    "np.random.seed(0)\n",
    "\n",
    "pts = list()\n",
    "labels = list()\n",
    "center_pts = np.random.uniform(-8.0, 8.0, (10, 2))\n",
    "for label, center_pt in enumerate(center_pts):\n",
    "    for _ in range(100):\n",
    "        pts.append(center_pt + np.random.randn(*center_pt.shape))\n",
    "        labels.append(label)\n",
    "        \n",
    "pts = np.stack(pts, axis=0).astype(np.float32)\n",
    "labels = np.stack(labels, axis=0)\n",
    "\n",
    "train_ds = tf.data.Dataset.from_tensor_slices((pts, labels)).shuffle(1000).batch(32)\n"
   ]
  },
  {
   "cell_type": "markdown",
   "metadata": {},
   "source": [
    "## 모델 생성"
   ]
  },
  {
   "cell_type": "code",
   "execution_count": 6,
   "metadata": {},
   "outputs": [],
   "source": [
    "model = MyModel()"
   ]
  },
  {
   "cell_type": "markdown",
   "metadata": {},
   "source": [
    "## 손실 함수 및 최적화 알고리즘 설정\n",
    "### CrossEntropy, Adam Optimizer"
   ]
  },
  {
   "cell_type": "code",
   "execution_count": 7,
   "metadata": {},
   "outputs": [],
   "source": [
    "loss_object = tf.keras.losses.SparseCategoricalCrossentropy()\n",
    "optimizer = tf.keras.optimizers.Adam()"
   ]
  },
  {
   "cell_type": "markdown",
   "metadata": {},
   "source": [
    "## 평가 지표 설정\n",
    "### Accuracy"
   ]
  },
  {
   "cell_type": "code",
   "execution_count": 8,
   "metadata": {},
   "outputs": [],
   "source": [
    "train_loss = tf.keras.metrics.Mean(name='train_loss')\n",
    "train_accuracy = tf.keras.metrics.SparseCategoricalAccuracy(name='train_accuracy')"
   ]
  },
  {
   "cell_type": "markdown",
   "metadata": {},
   "source": [
    "## 학습 루프"
   ]
  },
  {
   "cell_type": "code",
   "execution_count": 9,
   "metadata": {
    "scrolled": true
   },
   "outputs": [
    {
     "name": "stdout",
     "output_type": "stream",
     "text": [
      "Epoch: 1, Loss: 2.2901194095611572, Accuracy: 17.0\n",
      "Epoch: 2, Loss: 2.0682685375213623, Accuracy: 30.25\n",
      "Epoch: 3, Loss: 1.9094949960708618, Accuracy: 38.400001525878906\n",
      "Epoch: 4, Loss: 1.7862486839294434, Accuracy: 44.92500305175781\n",
      "Epoch: 5, Loss: 1.6874048709869385, Accuracy: 49.52000045776367\n",
      "Epoch: 6, Loss: 1.6043163537979126, Accuracy: 53.60000228881836\n",
      "Epoch: 7, Loss: 1.5341240167617798, Accuracy: 56.98571014404297\n",
      "Epoch: 8, Loss: 1.4723236560821533, Accuracy: 59.5625\n",
      "Epoch: 9, Loss: 1.4170167446136475, Accuracy: 62.12221908569336\n",
      "Epoch: 10, Loss: 1.3668104410171509, Accuracy: 64.25\n",
      "Epoch: 11, Loss: 1.3224502801895142, Accuracy: 66.0\n",
      "Epoch: 12, Loss: 1.2820253372192383, Accuracy: 67.51667022705078\n",
      "Epoch: 13, Loss: 1.2444525957107544, Accuracy: 68.75384521484375\n",
      "Epoch: 14, Loss: 1.2099686861038208, Accuracy: 69.97142791748047\n",
      "Epoch: 15, Loss: 1.1776034832000732, Accuracy: 71.06666564941406\n",
      "Epoch: 16, Loss: 1.1477738618850708, Accuracy: 72.05000305175781\n",
      "Epoch: 17, Loss: 1.119807243347168, Accuracy: 72.85293579101562\n",
      "Epoch: 18, Loss: 1.0935418605804443, Accuracy: 73.60555267333984\n",
      "Epoch: 19, Loss: 1.0689032077789307, Accuracy: 74.2368392944336\n",
      "Epoch: 20, Loss: 1.045906662940979, Accuracy: 74.87999725341797\n",
      "Epoch: 21, Loss: 1.024075984954834, Accuracy: 75.44761657714844\n",
      "Epoch: 22, Loss: 1.003558874130249, Accuracy: 75.95000457763672\n",
      "Epoch: 23, Loss: 0.9841988682746887, Accuracy: 76.4521713256836\n",
      "Epoch: 24, Loss: 0.9657451510429382, Accuracy: 76.90833282470703\n",
      "Epoch: 25, Loss: 0.9482961893081665, Accuracy: 77.30400085449219\n",
      "Epoch: 26, Loss: 0.9316443204879761, Accuracy: 77.70384216308594\n",
      "Epoch: 27, Loss: 0.9156472682952881, Accuracy: 78.04074096679688\n",
      "Epoch: 28, Loss: 0.9003554582595825, Accuracy: 78.375\n",
      "Epoch: 29, Loss: 0.8859805464744568, Accuracy: 78.69999694824219\n",
      "Epoch: 30, Loss: 0.8720995187759399, Accuracy: 78.99333190917969\n",
      "Epoch: 31, Loss: 0.8588688373565674, Accuracy: 79.26451873779297\n",
      "Epoch: 32, Loss: 0.8462145328521729, Accuracy: 79.51249694824219\n",
      "Epoch: 33, Loss: 0.8340498208999634, Accuracy: 79.75454711914062\n",
      "Epoch: 34, Loss: 0.8224044442176819, Accuracy: 79.98823547363281\n",
      "Epoch: 35, Loss: 0.8113970160484314, Accuracy: 80.2171401977539\n",
      "Epoch: 36, Loss: 0.8005470037460327, Accuracy: 80.42222595214844\n",
      "Epoch: 37, Loss: 0.7903776168823242, Accuracy: 80.61621856689453\n",
      "Epoch: 38, Loss: 0.7804252505302429, Accuracy: 80.80526733398438\n",
      "Epoch: 39, Loss: 0.7708255648612976, Accuracy: 80.9871826171875\n",
      "Epoch: 40, Loss: 0.761661171913147, Accuracy: 81.15249633789062\n",
      "Epoch: 41, Loss: 0.752650797367096, Accuracy: 81.31951141357422\n",
      "Epoch: 42, Loss: 0.7441661357879639, Accuracy: 81.46666717529297\n",
      "Epoch: 43, Loss: 0.7360140681266785, Accuracy: 81.61860656738281\n",
      "Epoch: 44, Loss: 0.7280345559120178, Accuracy: 81.75682067871094\n",
      "Epoch: 45, Loss: 0.7202323079109192, Accuracy: 81.88221740722656\n",
      "Epoch: 46, Loss: 0.7127708792686462, Accuracy: 82.01087188720703\n",
      "Epoch: 47, Loss: 0.705595076084137, Accuracy: 82.15106201171875\n",
      "Epoch: 48, Loss: 0.6988651156425476, Accuracy: 82.25833129882812\n",
      "Epoch: 49, Loss: 0.6919707655906677, Accuracy: 82.37959289550781\n",
      "Epoch: 50, Loss: 0.6853777170181274, Accuracy: 82.5\n",
      "Epoch: 51, Loss: 0.6788805723190308, Accuracy: 82.6196060180664\n",
      "Epoch: 52, Loss: 0.6726258397102356, Accuracy: 82.72884368896484\n",
      "Epoch: 53, Loss: 0.6666648387908936, Accuracy: 82.8339614868164\n",
      "Epoch: 54, Loss: 0.660840630531311, Accuracy: 82.93333435058594\n",
      "Epoch: 55, Loss: 0.6553587317466736, Accuracy: 83.02909088134766\n",
      "Epoch: 56, Loss: 0.64993816614151, Accuracy: 83.12678527832031\n",
      "Epoch: 57, Loss: 0.6445657014846802, Accuracy: 83.21403503417969\n",
      "Epoch: 58, Loss: 0.6392873525619507, Accuracy: 83.29483032226562\n",
      "Epoch: 59, Loss: 0.6341244578361511, Accuracy: 83.38813781738281\n",
      "Epoch: 60, Loss: 0.6291812062263489, Accuracy: 83.47166442871094\n",
      "Epoch: 61, Loss: 0.6243296265602112, Accuracy: 83.5458984375\n",
      "Epoch: 62, Loss: 0.6196335554122925, Accuracy: 83.63064575195312\n",
      "Epoch: 63, Loss: 0.6150833964347839, Accuracy: 83.70635223388672\n",
      "Epoch: 64, Loss: 0.6106471419334412, Accuracy: 83.77030944824219\n",
      "Epoch: 65, Loss: 0.6062601804733276, Accuracy: 83.84768676757812\n",
      "Epoch: 66, Loss: 0.6020920276641846, Accuracy: 83.91363525390625\n",
      "Epoch: 67, Loss: 0.5979719758033752, Accuracy: 83.98506927490234\n",
      "Epoch: 68, Loss: 0.5939335227012634, Accuracy: 84.04853057861328\n",
      "Epoch: 69, Loss: 0.5900560617446899, Accuracy: 84.11884307861328\n",
      "Epoch: 70, Loss: 0.586152970790863, Accuracy: 84.182861328125\n",
      "Epoch: 71, Loss: 0.5823954343795776, Accuracy: 84.24365997314453\n",
      "Epoch: 72, Loss: 0.5787213444709778, Accuracy: 84.30416870117188\n",
      "Epoch: 73, Loss: 0.5751522183418274, Accuracy: 84.36575317382812\n",
      "Epoch: 74, Loss: 0.571657121181488, Accuracy: 84.42567443847656\n",
      "Epoch: 75, Loss: 0.5682982802391052, Accuracy: 84.47866821289062\n",
      "Epoch: 76, Loss: 0.5649058222770691, Accuracy: 84.53421020507812\n",
      "Epoch: 77, Loss: 0.5615740418434143, Accuracy: 84.58441162109375\n",
      "Epoch: 78, Loss: 0.5584182143211365, Accuracy: 84.63589477539062\n",
      "Epoch: 79, Loss: 0.5553078651428223, Accuracy: 84.68607330322266\n",
      "Epoch: 80, Loss: 0.5522005558013916, Accuracy: 84.72999572753906\n",
      "Epoch: 81, Loss: 0.5492375493049622, Accuracy: 84.78395080566406\n",
      "Epoch: 82, Loss: 0.5462727546691895, Accuracy: 84.82926940917969\n",
      "Epoch: 83, Loss: 0.5434073209762573, Accuracy: 84.87590789794922\n",
      "Epoch: 84, Loss: 0.5405837893486023, Accuracy: 84.92857360839844\n",
      "Epoch: 85, Loss: 0.5378226041793823, Accuracy: 84.97529602050781\n",
      "Epoch: 86, Loss: 0.5350223183631897, Accuracy: 85.01860809326172\n",
      "Epoch: 87, Loss: 0.5323267579078674, Accuracy: 85.06321716308594\n",
      "Epoch: 88, Loss: 0.5296564698219299, Accuracy: 85.1022720336914\n",
      "Epoch: 89, Loss: 0.5270986557006836, Accuracy: 85.1438217163086\n",
      "Epoch: 90, Loss: 0.5246381163597107, Accuracy: 85.18333435058594\n",
      "Epoch: 91, Loss: 0.5222304463386536, Accuracy: 85.22197723388672\n",
      "Epoch: 92, Loss: 0.5197856426239014, Accuracy: 85.25978088378906\n",
      "Epoch: 93, Loss: 0.5173823833465576, Accuracy: 85.30107879638672\n",
      "Epoch: 94, Loss: 0.5151023268699646, Accuracy: 85.33404541015625\n",
      "Epoch: 95, Loss: 0.5127587914466858, Accuracy: 85.37579345703125\n",
      "Epoch: 96, Loss: 0.5105792880058289, Accuracy: 85.41250610351562\n",
      "Epoch: 97, Loss: 0.508366048336029, Accuracy: 85.4494857788086\n",
      "Epoch: 98, Loss: 0.5062130689620972, Accuracy: 85.48673248291016\n",
      "Epoch: 99, Loss: 0.5040366053581238, Accuracy: 85.52726745605469\n",
      "Epoch: 100, Loss: 0.5019611120223999, Accuracy: 85.56800079345703\n"
     ]
    }
   ],
   "source": [
    "for epoch in range(EPOCHS):\n",
    "    for x, label in train_ds:\n",
    "        train_step(model, x, label, loss_object, optimizer, train_loss, train_accuracy)\n",
    "\n",
    "    template = 'Epoch: {}, Loss: {}, Accuracy: {}'\n",
    "    print(template.format(epoch + 1,\n",
    "                          train_loss.result(),\n",
    "                          train_accuracy.result() * 100))"
   ]
  },
  {
   "cell_type": "markdown",
   "metadata": {},
   "source": [
    "## 데이터셋 및 학습 파라미터 저장"
   ]
  },
  {
   "cell_type": "code",
   "execution_count": 12,
   "metadata": {},
   "outputs": [],
   "source": [
    "np.savez_compressed('ch2_dataset.npz', inputs=pts, labels=labels)\n",
    "\n",
    "W_h, b_h = model.d1.get_weights()\n",
    "W_o, b_o = model.d2.get_weights()\n",
    "W_h = np.transpose(W_h)\n",
    "W_o = np.transpose(W_o)\n",
    "np.savez_compressed('ch2_parameters.npz',\n",
    "                    W_h=W_h,\n",
    "                    b_h=b_h,\n",
    "                    W_o=W_o,\n",
    "                    b_o=b_o)"
   ]
  },
  {
   "cell_type": "code",
   "execution_count": null,
   "metadata": {},
   "outputs": [],
   "source": []
  }
 ],
 "metadata": {
  "kernelspec": {
   "display_name": "Python 3",
   "language": "python",
   "name": "python3"
  },
  "language_info": {
   "codemirror_mode": {
    "name": "ipython",
    "version": 3
   },
   "file_extension": ".py",
   "mimetype": "text/x-python",
   "name": "python",
   "nbconvert_exporter": "python",
   "pygments_lexer": "ipython3",
   "version": "3.7.6"
  }
 },
 "nbformat": 4,
 "nbformat_minor": 2
}
