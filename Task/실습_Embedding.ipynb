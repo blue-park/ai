{
  "nbformat": 4,
  "nbformat_minor": 0,
  "metadata": {
    "colab": {
      "name": "실습_Embedding.ipynb",
      "provenance": [],
      "collapsed_sections": [],
      "machine_shape": "hm"
    },
    "kernelspec": {
      "name": "python3",
      "display_name": "Python 3"
    },
    "accelerator": "GPU"
  },
  "cells": [
    {
      "cell_type": "markdown",
      "metadata": {
        "id": "RQuwLrfneJGq"
      },
      "source": [
        "필요한 라이브러리를 import해줍니다.\n",
        "\n",
        "* Embedding을 통해 범주형 데이터를 벡터로 바꿔주겠습니다."
      ]
    },
    {
      "cell_type": "code",
      "metadata": {
        "id": "D5Cnajwnc73B"
      },
      "source": [
        "import pandas as pd\n",
        "import numpy as np\n",
        "import tensorflow as tf \n",
        "from tensorflow.keras.layers import Embedding "
      ],
      "execution_count": 1,
      "outputs": []
    },
    {
      "cell_type": "markdown",
      "metadata": {
        "id": "3YJfJrzDPG1H"
      },
      "source": [
        "상품 구매 목록에 대한 데이터가 다음과 같이 주어졌습니다."
      ]
    },
    {
      "cell_type": "code",
      "metadata": {
        "colab": {
          "base_uri": "https://localhost:8080/",
          "height": 421
        },
        "id": "eiS2UR7LOVoK",
        "outputId": "573778c5-5091-471f-9882-18fa8d9e1821"
      },
      "source": [
        "data = pd.DataFrame({\"product\":['당근','토마토','샐러드','토마토','오이','소고기','닭가슴살','토마토','샐러드','계란','두부','닭가슴살'], \"num\":[3,6,1,2,3,2,10,4,1,10,2,10]})\n",
        "data"
      ],
      "execution_count": 2,
      "outputs": [
        {
          "output_type": "execute_result",
          "data": {
            "text/html": [
              "<div>\n",
              "<style scoped>\n",
              "    .dataframe tbody tr th:only-of-type {\n",
              "        vertical-align: middle;\n",
              "    }\n",
              "\n",
              "    .dataframe tbody tr th {\n",
              "        vertical-align: top;\n",
              "    }\n",
              "\n",
              "    .dataframe thead th {\n",
              "        text-align: right;\n",
              "    }\n",
              "</style>\n",
              "<table border=\"1\" class=\"dataframe\">\n",
              "  <thead>\n",
              "    <tr style=\"text-align: right;\">\n",
              "      <th></th>\n",
              "      <th>product</th>\n",
              "      <th>num</th>\n",
              "    </tr>\n",
              "  </thead>\n",
              "  <tbody>\n",
              "    <tr>\n",
              "      <th>0</th>\n",
              "      <td>당근</td>\n",
              "      <td>3</td>\n",
              "    </tr>\n",
              "    <tr>\n",
              "      <th>1</th>\n",
              "      <td>토마토</td>\n",
              "      <td>6</td>\n",
              "    </tr>\n",
              "    <tr>\n",
              "      <th>2</th>\n",
              "      <td>샐러드</td>\n",
              "      <td>1</td>\n",
              "    </tr>\n",
              "    <tr>\n",
              "      <th>3</th>\n",
              "      <td>토마토</td>\n",
              "      <td>2</td>\n",
              "    </tr>\n",
              "    <tr>\n",
              "      <th>4</th>\n",
              "      <td>오이</td>\n",
              "      <td>3</td>\n",
              "    </tr>\n",
              "    <tr>\n",
              "      <th>5</th>\n",
              "      <td>소고기</td>\n",
              "      <td>2</td>\n",
              "    </tr>\n",
              "    <tr>\n",
              "      <th>6</th>\n",
              "      <td>닭가슴살</td>\n",
              "      <td>10</td>\n",
              "    </tr>\n",
              "    <tr>\n",
              "      <th>7</th>\n",
              "      <td>토마토</td>\n",
              "      <td>4</td>\n",
              "    </tr>\n",
              "    <tr>\n",
              "      <th>8</th>\n",
              "      <td>샐러드</td>\n",
              "      <td>1</td>\n",
              "    </tr>\n",
              "    <tr>\n",
              "      <th>9</th>\n",
              "      <td>계란</td>\n",
              "      <td>10</td>\n",
              "    </tr>\n",
              "    <tr>\n",
              "      <th>10</th>\n",
              "      <td>두부</td>\n",
              "      <td>2</td>\n",
              "    </tr>\n",
              "    <tr>\n",
              "      <th>11</th>\n",
              "      <td>닭가슴살</td>\n",
              "      <td>10</td>\n",
              "    </tr>\n",
              "  </tbody>\n",
              "</table>\n",
              "</div>"
            ],
            "text/plain": [
              "   product  num\n",
              "0       당근    3\n",
              "1      토마토    6\n",
              "2      샐러드    1\n",
              "3      토마토    2\n",
              "4       오이    3\n",
              "5      소고기    2\n",
              "6     닭가슴살   10\n",
              "7      토마토    4\n",
              "8      샐러드    1\n",
              "9       계란   10\n",
              "10      두부    2\n",
              "11    닭가슴살   10"
            ]
          },
          "metadata": {
            "tags": []
          },
          "execution_count": 2
        }
      ]
    },
    {
      "cell_type": "markdown",
      "metadata": {
        "id": "NG3WK5WFmrvp"
      },
      "source": [
        "위 데이터 중 \"product\"컬럼에 해당하는 상품 품목들은 범주형으로, 인코딩해야합니다.\n",
        "\n",
        "토마토, 샐러드, 닭가슴살은 중복 구매된 상품입니다.\n",
        "\n",
        "사전을 만들기 위해 중복을 제외한 상품 목록을 추출합니다\n",
        "\n",
        "총 8가지의 상품이 있습니다."
      ]
    },
    {
      "cell_type": "code",
      "metadata": {
        "id": "LHygGkDeiyUZ",
        "colab": {
          "base_uri": "https://localhost:8080/"
        },
        "outputId": "2260e4e7-376f-4020-8763-20cada798416"
      },
      "source": [
        "product_list = list(set(data[\"product\"]))\n",
        "print(product_list)"
      ],
      "execution_count": 3,
      "outputs": [
        {
          "output_type": "stream",
          "text": [
            "['소고기', '오이', '샐러드', '토마토', '닭가슴살', '두부', '계란', '당근']\n"
          ],
          "name": "stdout"
        }
      ]
    },
    {
      "cell_type": "markdown",
      "metadata": {
        "id": "4ovYS4iFsPKu"
      },
      "source": [
        "중복을 제외한 product_list를 인덱스로 변환하기 위해 vocab을 만들어줍니다"
      ]
    },
    {
      "cell_type": "code",
      "metadata": {
        "colab": {
          "base_uri": "https://localhost:8080/"
        },
        "id": "wxycJ76hsOze",
        "outputId": "a0972ad9-4027-4b76-d228-4dd49425a87d"
      },
      "source": [
        "product_vocab = {name:i for i,name in enumerate(product_list)}\n",
        "\n",
        "print(product_vocab)"
      ],
      "execution_count": 4,
      "outputs": [
        {
          "output_type": "stream",
          "text": [
            "{'소고기': 0, '오이': 1, '샐러드': 2, '토마토': 3, '닭가슴살': 4, '두부': 5, '계란': 6, '당근': 7}\n"
          ],
          "name": "stdout"
        }
      ]
    },
    {
      "cell_type": "markdown",
      "metadata": {
        "id": "XT5EbX1xsqJJ"
      },
      "source": [
        "# one-hot encoding\n",
        "\n",
        "\n",
        "[tf.one_hot](https://www.tensorflow.org/api_docs/python/tf/one_hot) 을 이용하면 원핫 인코딩 벡터를 만들어줍니다.\n",
        "\n",
        "aurgument로는 변환하려는 데이터의 vocab 인덱스와, 전체 범주 길이를 넣어주면 됩니다."
      ]
    },
    {
      "cell_type": "code",
      "metadata": {
        "colab": {
          "base_uri": "https://localhost:8080/"
        },
        "id": "p0aG3lGKsOwQ",
        "outputId": "6c66cc33-db78-45d0-a57b-4dd3de385957"
      },
      "source": [
        "print(  tf.one_hot(product_vocab[\"당근\"], len(product_vocab))  )"
      ],
      "execution_count": 5,
      "outputs": [
        {
          "output_type": "stream",
          "text": [
            "tf.Tensor([0. 0. 0. 0. 0. 0. 0. 1.], shape=(8,), dtype=float32)\n"
          ],
          "name": "stdout"
        }
      ]
    },
    {
      "cell_type": "markdown",
      "metadata": {
        "id": "YBIST4UAu0Os"
      },
      "source": [
        "기존의 데이터를 다음과 같이 원핫 인코딩 벡터로 만들 수 있습니다"
      ]
    },
    {
      "cell_type": "code",
      "metadata": {
        "colab": {
          "base_uri": "https://localhost:8080/"
        },
        "id": "cdiPltEKsOtl",
        "outputId": "f6d46ffd-d2ca-4d46-c71d-996ecf89b409"
      },
      "source": [
        "for index, row in data.iterrows():\n",
        "    print(row['product'], row['num'], \" \\t--> \", tf.one_hot(product_vocab[row['product']], len(product_vocab)).numpy(), row['num']) "
      ],
      "execution_count": 6,
      "outputs": [
        {
          "output_type": "stream",
          "text": [
            "당근 3  \t-->  [0. 0. 0. 0. 0. 0. 0. 1.] 3\n",
            "토마토 6  \t-->  [0. 0. 0. 1. 0. 0. 0. 0.] 6\n",
            "샐러드 1  \t-->  [0. 0. 1. 0. 0. 0. 0. 0.] 1\n",
            "토마토 2  \t-->  [0. 0. 0. 1. 0. 0. 0. 0.] 2\n",
            "오이 3  \t-->  [0. 1. 0. 0. 0. 0. 0. 0.] 3\n",
            "소고기 2  \t-->  [1. 0. 0. 0. 0. 0. 0. 0.] 2\n",
            "닭가슴살 10  \t-->  [0. 0. 0. 0. 1. 0. 0. 0.] 10\n",
            "토마토 4  \t-->  [0. 0. 0. 1. 0. 0. 0. 0.] 4\n",
            "샐러드 1  \t-->  [0. 0. 1. 0. 0. 0. 0. 0.] 1\n",
            "계란 10  \t-->  [0. 0. 0. 0. 0. 0. 1. 0.] 10\n",
            "두부 2  \t-->  [0. 0. 0. 0. 0. 1. 0. 0.] 2\n",
            "닭가슴살 10  \t-->  [0. 0. 0. 0. 1. 0. 0. 0.] 10\n"
          ],
          "name": "stdout"
        }
      ]
    },
    {
      "cell_type": "markdown",
      "metadata": {
        "id": "rEwULczav8Ll"
      },
      "source": [
        "# Embedding\n",
        "\n",
        "\n",
        "[Embedding layer](https://www.tensorflow.org/api_docs/python/tf/keras/layers/Embedding) 를 이용하면 데이터를 지정한 차원의 벡터로 만들어줍니다.\n",
        "\n",
        "argument로는 전체 범주의 길이와 변환하려는 벡터의 길이를 넣어주고,\n",
        "\n",
        "입력으로는 변환하려는 데이터의 vocab 인덱스를 넣어주면 됩니다.\n",
        "\n",
        "이 경우 각 상품을 길이 3의 벡터로 만들겠습니다."
      ]
    },
    {
      "cell_type": "code",
      "metadata": {
        "colab": {
          "base_uri": "https://localhost:8080/"
        },
        "id": "b-IWPgh9xJdD",
        "outputId": "145eb973-616c-46a3-b55f-f5f4ed8bb396"
      },
      "source": [
        "embedding_layer = Embedding(len(product_vocab), 3)\n",
        "result = embedding_layer(product_vocab[\"당근\"])\n",
        "print(result) "
      ],
      "execution_count": 7,
      "outputs": [
        {
          "output_type": "stream",
          "text": [
            "tf.Tensor([ 0.04321284 -0.01696879 -0.00422965], shape=(3,), dtype=float32)\n"
          ],
          "name": "stdout"
        }
      ]
    },
    {
      "cell_type": "markdown",
      "metadata": {
        "id": "q1QsvZB2yC5Z"
      },
      "source": [
        "기존의 데이터를 다음과 같이 임베딩 벡터로 만들 수 있습니다"
      ]
    },
    {
      "cell_type": "code",
      "metadata": {
        "colab": {
          "base_uri": "https://localhost:8080/"
        },
        "id": "TS6y-UQyxpnF",
        "outputId": "163516fd-18d0-4e9a-ec07-d9f15ad242d8"
      },
      "source": [
        "for index, row in data.iterrows():\n",
        "    print(row['product'], row['num'], \" \\t--> \", embedding_layer(product_vocab[row['product']]).numpy(), row['num']) "
      ],
      "execution_count": 8,
      "outputs": [
        {
          "output_type": "stream",
          "text": [
            "당근 3  \t-->  [ 0.04321284 -0.01696879 -0.00422965] 3\n",
            "토마토 6  \t-->  [-0.01854287  0.006738   -0.01718505] 6\n",
            "샐러드 1  \t-->  [-0.02538518  0.03959824  0.0391911 ] 1\n",
            "토마토 2  \t-->  [-0.01854287  0.006738   -0.01718505] 2\n",
            "오이 3  \t-->  [ 0.04307355 -0.01830908  0.01779013] 3\n",
            "소고기 2  \t-->  [ 0.03576297 -0.03392136  0.0140285 ] 2\n",
            "닭가슴살 10  \t-->  [-0.01698168  0.03696792  0.03616935] 10\n",
            "토마토 4  \t-->  [-0.01854287  0.006738   -0.01718505] 4\n",
            "샐러드 1  \t-->  [-0.02538518  0.03959824  0.0391911 ] 1\n",
            "계란 10  \t-->  [0.04175324 0.04546375 0.03643881] 10\n",
            "두부 2  \t-->  [-2.1994114e-05 -2.2459567e-02 -3.3894945e-02] 2\n",
            "닭가슴살 10  \t-->  [-0.01698168  0.03696792  0.03616935] 10\n"
          ],
          "name": "stdout"
        }
      ]
    },
    {
      "cell_type": "markdown",
      "metadata": {
        "id": "9TNpISRGBQNq"
      },
      "source": [
        "임베딩 레이어에는 인덱스로 변환된 데이터를 한번에 넣어 결과로 추론할 수 있습니다."
      ]
    },
    {
      "cell_type": "code",
      "metadata": {
        "colab": {
          "base_uri": "https://localhost:8080/"
        },
        "id": "5R9__c4iAXKO",
        "outputId": "420d4989-b12f-4611-fa9e-5db64ac2a824"
      },
      "source": [
        "prod_idxs = np.array([product_vocab[prod] for prod in data[\"product\"]])\n",
        "print(\"▶데이터의 상품을 인덱스로 변환 : \\n >> \", prod_idxs)\n",
        "print()\n",
        "print(\"▶데이터의 상품을 임베딩한 결과 shape : \\n >> (데이터길이, 임베딩길이): \", embedding_layer(prod_idxs).shape)\n",
        "print()\n",
        "print(\"▶데이터의 상품을 임베딩한 결과 : \\n >> \", embedding_layer(prod_idxs))\n"
      ],
      "execution_count": 9,
      "outputs": [
        {
          "output_type": "stream",
          "text": [
            "▶데이터의 상품을 인덱스로 변환 : \n",
            " >>  [7 3 2 3 1 0 4 3 2 6 5 4]\n",
            "\n",
            "▶데이터의 상품을 임베딩한 결과 shape : \n",
            " >> (데이터길이, 임베딩길이):  (12, 3)\n",
            "\n",
            "▶데이터의 상품을 임베딩한 결과 : \n",
            " >>  tf.Tensor(\n",
            "[[ 4.3212842e-02 -1.6968787e-02 -4.2296536e-03]\n",
            " [-1.8542875e-02  6.7379959e-03 -1.7185055e-02]\n",
            " [-2.5385177e-02  3.9598238e-02  3.9191101e-02]\n",
            " [-1.8542875e-02  6.7379959e-03 -1.7185055e-02]\n",
            " [ 4.3073546e-02 -1.8309079e-02  1.7790128e-02]\n",
            " [ 3.5762969e-02 -3.3921361e-02  1.4028501e-02]\n",
            " [-1.6981684e-02  3.6967922e-02  3.6169354e-02]\n",
            " [-1.8542875e-02  6.7379959e-03 -1.7185055e-02]\n",
            " [-2.5385177e-02  3.9598238e-02  3.9191101e-02]\n",
            " [ 4.1753236e-02  4.5463752e-02  3.6438812e-02]\n",
            " [-2.1994114e-05 -2.2459567e-02 -3.3894945e-02]\n",
            " [-1.6981684e-02  3.6967922e-02  3.6169354e-02]], shape=(12, 3), dtype=float32)\n"
          ],
          "name": "stdout"
        }
      ]
    },
    {
      "cell_type": "code",
      "metadata": {
        "id": "PuhK8W7HAp82"
      },
      "source": [
        ""
      ],
      "execution_count": 9,
      "outputs": []
    }
  ]
}